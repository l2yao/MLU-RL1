{
 "cells": [
  {
   "cell_type": "markdown",
   "metadata": {},
   "source": [
    "![MLU Logo](https://drive.corp.amazon.com/view/bwernes@/MLU_Logo.png?download=true)"
   ]
  },
  {
   "cell_type": "markdown",
   "metadata": {},
   "source": [
    "## Lecture 1 Support Notebook"
   ]
  },
  {
   "cell_type": "markdown",
   "metadata": {},
   "source": [
    "### Table of Contents\n",
    "<p>\n",
    "<div class=\"lev1\">\n",
    "    <a href=\"#RL-Example\">\n",
    "        <span class=\"toc-item-num\">0.&nbsp;&nbsp;</span>\n",
    "        RL-Example\n",
    "    </a>\n",
    "</div>\n",
    "<div class=\"lev1\">\n",
    "    <a href=\"#Markov-Chain-I\">\n",
    "        <span class=\"toc-item-num\">1.1&nbsp;&nbsp;</span>\n",
    "        Markov Chain I\n",
    "    </a>\n",
    "</div>\n",
    "<div class=\"lev1\">\n",
    "    <a href=\"#Markov-Chain-II\"><span class=\"toc-item-num\">1.2&nbsp;&nbsp;</span>\n",
    "        Markov Chain II\n",
    "    </a>\n",
    "</div>\n",
    "<div class=\"lev1\">\n",
    "    <a href=\"#Markov-Chain-III\"><span class=\"toc-item-num\">1.3&nbsp;&nbsp;</span>\n",
    "        Markov Chain III\n",
    "    </a>\n",
    "</div>\n",
    "<div class=\"lev1\">\n",
    "    <a href=\"#Bellman-Equation\"><span class=\"toc-item-num\">2&nbsp;&nbsp;</span>\n",
    "        Bellman Equation\n",
    "    </a>\n",
    "</div>\n",
    "<div class=\"lev1\">\n",
    "    <a href=\"#Value-Iteration\"><span class=\"toc-item-num\">3&nbsp;&nbsp;</span>\n",
    "        Value Iteration\n",
    "    </a>\n",
    "</div>\n",
    "<div class=\"lev1\">\n",
    "    <a href=\"#Policy-Iteration-I\"><span class=\"toc-item-num\">4&nbsp;&nbsp;</span>\n",
    "        Policy Iteration I\n",
    "    </a>\n",
    "</div>\n",
    "<div class=\"lev1\">\n",
    "    <a href=\"#Policy-Iteration-II\"><span class=\"toc-item-num\">5&nbsp;&nbsp;</span>\n",
    "        Policy Iteration II\n",
    "    </a>\n",
    "</div>"
   ]
  },
  {
   "cell_type": "code",
   "execution_count": 3,
   "metadata": {},
   "outputs": [],
   "source": [
    "#!/usr/bin/env python\n",
    "\n",
    "#MIT License\n",
    "#Copyright (c) 2017 Massimiliano Patacchiola\n",
    "#\n",
    "#Permission is hereby granted, free of charge, to any person obtaining a copy\n",
    "#of this software and associated documentation files (the \"Software\"), to deal\n",
    "#in the Software without restriction, including without limitation the rights\n",
    "#to use, copy, modify, merge, publish, distribute, sublicense, and/or sell\n",
    "#copies of the Software, and to permit persons to whom the Software is\n",
    "#furnished to do so, subject to the following conditions:\n",
    "#\n",
    "#The above copyright notice and this permission notice shall be included in all\n",
    "#copies or substantial portions of the Software.\n",
    "#\n",
    "#THE SOFTWARE IS PROVIDED \"AS IS\", WITHOUT WARRANTY OF ANY KIND, EXPRESS OR\n",
    "#IMPLIED, INCLUDING BUT NOT LIMITED TO THE WARRANTIES OF MERCHANTABILITY,\n",
    "#FITNESS FOR A PARTICULAR PURPOSE AND NONINFRINGEMENT. IN NO EVENT SHALL THE\n",
    "#AUTHORS OR COPYRIGHT HOLDERS BE LIABLE FOR ANY CLAIM, DAMAGES OR OTHER\n",
    "#LIABILITY, WHETHER IN AN ACTION OF CONTRACT, TORT OR OTHERWISE, ARISING FROM,\n",
    "#OUT OF OR IN CONNECTION WITH THE SOFTWARE OR THE USE OR OTHER DEALINGS IN THE\n",
    "#SOFTWARE."
   ]
  },
  {
   "cell_type": "markdown",
   "metadata": {},
   "source": [
    "# Markov Chain I"
   ]
  },
  {
   "cell_type": "code",
   "execution_count": 78,
   "metadata": {},
   "outputs": [],
   "source": [
    "# INSTALL THIS PACKAGE THE FIRST TIME YOU RUN THIS INSTANCE\n",
    "#!pip install tqdm"
   ]
  },
  {
   "cell_type": "code",
   "execution_count": 1,
   "metadata": {},
   "outputs": [],
   "source": [
    "from tqdm import tqdm\n",
    "import numpy as np\n",
    "import pandas as pd\n",
    "import matplotlib.pyplot as plt\n",
    "plt.rcParams.update({'figure.max_open_warning': 0})\n",
    "import seaborn as sns\n",
    "sns.set_style(\"darkgrid\")\n",
    "import matplotlib.patches as mpatches\n",
    "import matplotlib.lines as mlines\n",
    "#%pylab inline\n",
    "import random\n",
    "%matplotlib inline"
   ]
  },
  {
   "cell_type": "code",
   "execution_count": 2,
   "metadata": {},
   "outputs": [
    {
     "data": {
      "text/html": [
       "<style  type=\"text/css\" >\n",
       "</style><table id=\"T_92d64e68_5b20_11ea_a8b8_f45c89a7c241\" ><thead>    <tr>        <th class=\"col_heading level0 col0\" >T</th>        <th class=\"col_heading level0 col1\" >0</th>    </tr></thead><tbody>\n",
       "                <tr>\n",
       "                                <td id=\"T_92d64e68_5b20_11ea_a8b8_f45c89a7c241row0_col0\" class=\"data row0 col0\" >0.9</td>\n",
       "                        <td id=\"T_92d64e68_5b20_11ea_a8b8_f45c89a7c241row0_col1\" class=\"data row0 col1\" >0.1</td>\n",
       "            </tr>\n",
       "            <tr>\n",
       "                                <td id=\"T_92d64e68_5b20_11ea_a8b8_f45c89a7c241row1_col0\" class=\"data row1 col0\" >0.5</td>\n",
       "                        <td id=\"T_92d64e68_5b20_11ea_a8b8_f45c89a7c241row1_col1\" class=\"data row1 col1\" >0.5</td>\n",
       "            </tr>\n",
       "    </tbody></table>"
      ],
      "text/plain": [
       "<pandas.io.formats.style.Styler at 0x1a24b9ad10>"
      ]
     },
     "execution_count": 2,
     "metadata": {},
     "output_type": "execute_result"
    }
   ],
   "source": [
    "#Declaring the Transition Matrix T\n",
    "T = np.array([[0.90, 0.10],\n",
    "              [0.50, 0.50]])\n",
    "T = pd.DataFrame(data=T)\n",
    "T.columns=[\"T\", \"0\"]\n",
    "T.style.hide_index()"
   ]
  },
  {
   "cell_type": "code",
   "execution_count": 3,
   "metadata": {},
   "outputs": [
    {
     "data": {
      "text/html": [
       "<style  type=\"text/css\" >\n",
       "</style><table id=\"T_d4abc49e_5b20_11ea_a8b8_f45c89a7c241\" ><thead>    <tr>        <th class=\"col_heading level0 col0\" >T</th>        <th class=\"col_heading level0 col1\" >3</th>    </tr></thead><tbody>\n",
       "                <tr>\n",
       "                                <td id=\"T_d4abc49e_5b20_11ea_a8b8_f45c89a7c241row0_col0\" class=\"data row0 col0\" >0.844</td>\n",
       "                        <td id=\"T_d4abc49e_5b20_11ea_a8b8_f45c89a7c241row0_col1\" class=\"data row0 col1\" >0.156</td>\n",
       "            </tr>\n",
       "            <tr>\n",
       "                                <td id=\"T_d4abc49e_5b20_11ea_a8b8_f45c89a7c241row1_col0\" class=\"data row1 col0\" >0.78</td>\n",
       "                        <td id=\"T_d4abc49e_5b20_11ea_a8b8_f45c89a7c241row1_col1\" class=\"data row1 col1\" >0.22</td>\n",
       "            </tr>\n",
       "    </tbody></table>"
      ],
      "text/plain": [
       "<pandas.io.formats.style.Styler at 0x1a250e2350>"
      ]
     },
     "execution_count": 3,
     "metadata": {},
     "output_type": "execute_result"
    }
   ],
   "source": [
    "#Obtaining T after 3 steps\n",
    "T_3 = np.linalg.matrix_power(T, 3)\n",
    "T_3 = pd.DataFrame(data=T_3)\n",
    "T_3.columns=[\"T\", \"3\"]\n",
    "T_3.style.hide_index()"
   ]
  },
  {
   "cell_type": "code",
   "execution_count": 4,
   "metadata": {},
   "outputs": [
    {
     "data": {
      "text/html": [
       "<style  type=\"text/css\" >\n",
       "</style><table id=\"T_caa13554_5b22_11ea_a8b8_f45c89a7c241\" ><thead>    <tr>        <th class=\"col_heading level0 col0\" >T</th>        <th class=\"col_heading level0 col1\" >50</th>    </tr></thead><tbody>\n",
       "                <tr>\n",
       "                                <td id=\"T_caa13554_5b22_11ea_a8b8_f45c89a7c241row0_col0\" class=\"data row0 col0\" >0.833333</td>\n",
       "                        <td id=\"T_caa13554_5b22_11ea_a8b8_f45c89a7c241row0_col1\" class=\"data row0 col1\" >0.166667</td>\n",
       "            </tr>\n",
       "            <tr>\n",
       "                                <td id=\"T_caa13554_5b22_11ea_a8b8_f45c89a7c241row1_col0\" class=\"data row1 col0\" >0.833333</td>\n",
       "                        <td id=\"T_caa13554_5b22_11ea_a8b8_f45c89a7c241row1_col1\" class=\"data row1 col1\" >0.166667</td>\n",
       "            </tr>\n",
       "    </tbody></table>"
      ],
      "text/plain": [
       "<pandas.io.formats.style.Styler at 0x1a24caf790>"
      ]
     },
     "execution_count": 4,
     "metadata": {},
     "output_type": "execute_result"
    }
   ],
   "source": [
    "#Obtaining T after 50 steps\n",
    "T_50 = np.linalg.matrix_power(T, 50)\n",
    "T_50 = pd.DataFrame(data=T_50)\n",
    "T_50.columns=[\"T\", \"50\"]\n",
    "T_50.style.hide_index()"
   ]
  },
  {
   "cell_type": "code",
   "execution_count": 5,
   "metadata": {},
   "outputs": [
    {
     "data": {
      "text/html": [
       "<style  type=\"text/css\" >\n",
       "</style><table id=\"T_cbf25fd2_5b22_11ea_a8b8_f45c89a7c241\" ><thead>    <tr>        <th class=\"col_heading level0 col0\" >T</th>        <th class=\"col_heading level0 col1\" >100</th>    </tr></thead><tbody>\n",
       "                <tr>\n",
       "                                <td id=\"T_cbf25fd2_5b22_11ea_a8b8_f45c89a7c241row0_col0\" class=\"data row0 col0\" >0.833333</td>\n",
       "                        <td id=\"T_cbf25fd2_5b22_11ea_a8b8_f45c89a7c241row0_col1\" class=\"data row0 col1\" >0.166667</td>\n",
       "            </tr>\n",
       "            <tr>\n",
       "                                <td id=\"T_cbf25fd2_5b22_11ea_a8b8_f45c89a7c241row1_col0\" class=\"data row1 col0\" >0.833333</td>\n",
       "                        <td id=\"T_cbf25fd2_5b22_11ea_a8b8_f45c89a7c241row1_col1\" class=\"data row1 col1\" >0.166667</td>\n",
       "            </tr>\n",
       "    </tbody></table>"
      ],
      "text/plain": [
       "<pandas.io.formats.style.Styler at 0x1a25046a50>"
      ]
     },
     "execution_count": 5,
     "metadata": {},
     "output_type": "execute_result"
    }
   ],
   "source": [
    "#Obtaining T after 100 steps\n",
    "T_100 = np.linalg.matrix_power(T, 100)\n",
    "T_100 = pd.DataFrame(data=T_100)\n",
    "T_100.columns=[\"T\", \"100\"]\n",
    "T_100.style.hide_index()"
   ]
  },
  {
   "cell_type": "markdown",
   "metadata": {},
   "source": [
    "## (End of Example.  Instructor Return to Slides)"
   ]
  },
  {
   "cell_type": "markdown",
   "metadata": {},
   "source": [
    "# Markov Chain II"
   ]
  },
  {
   "cell_type": "code",
   "execution_count": 11,
   "metadata": {
    "scrolled": true
   },
   "outputs": [
    {
     "name": "stdout",
     "output_type": "stream",
     "text": [
      "v: [[1. 0.]]\n",
      "v_1: [[0.9 0.1]]\n",
      "v_3: [[0.844 0.156]]\n",
      "v_50: [[0.83333333 0.16666667]]\n",
      "v_100: [[0.83333333 0.16666667]]\n"
     ]
    }
   ],
   "source": [
    "#Declaring the initial distribution\n",
    "v = np.array([[1.0, 0.0]])\n",
    "\n",
    "#Obtaining T after 3 steps\n",
    "T_3 = np.linalg.matrix_power(T, 3)\n",
    "#Obtaining T after 50 steps\n",
    "T_50 = np.linalg.matrix_power(T, 50)\n",
    "#Obtaining T after 100 steps\n",
    "T_100 = np.linalg.matrix_power(T, 100)\n",
    "\n",
    "#Printing the initial distribution\n",
    "print(\"v: \" + str(v))\n",
    "print(\"v_1: \" + str(np.dot(v,T)))\n",
    "print(\"v_3: \" + str(np.dot(v,T_3)))\n",
    "print(\"v_50: \" + str(np.dot(v,T_50)))\n",
    "print(\"v_100: \" + str(np.dot(v,T_100)))"
   ]
  },
  {
   "cell_type": "markdown",
   "metadata": {},
   "source": [
    "## (End of Example.  Instructor Return to Slides)"
   ]
  },
  {
   "cell_type": "markdown",
   "metadata": {},
   "source": [
    "<div class=\"lev1\">\n",
    "    <a href=\"#Lecture-1-Support-Notebook\">\n",
    "        <span class=\"toc-item-num\">&nbsp;&nbsp;</span>\n",
    "        Go to TOP\n",
    "    </a>\n",
    "</div>"
   ]
  },
  {
   "cell_type": "markdown",
   "metadata": {},
   "source": [
    "# Markov Chain III"
   ]
  },
  {
   "cell_type": "code",
   "execution_count": 85,
   "metadata": {},
   "outputs": [
    {
     "name": "stdout",
     "output_type": "stream",
     "text": [
      "v: [[0.5 0.5]]\n",
      "v_1: [[0.7 0.3]]\n",
      "v_3: [[0.812 0.188]]\n",
      "v_50: [[0.83333333 0.16666667]]\n",
      "v_100: [[0.83333333 0.16666667]]\n"
     ]
    }
   ],
   "source": [
    "#Declaring the initial distribution\n",
    "v = np.array([[0.5, 0.5]])\n",
    "#Obtaining T after 3 steps\n",
    "T_3 = np.linalg.matrix_power(T, 3)\n",
    "#Obtaining T after 50 steps\n",
    "T_50 = np.linalg.matrix_power(T, 50)\n",
    "#Obtaining T after 100 steps\n",
    "T_100 = np.linalg.matrix_power(T, 100)\n",
    "\n",
    "#Printing the initial distribution\n",
    "print(\"v: \" + str(v))\n",
    "print(\"v_1: \" + str(np.dot(v,T)))\n",
    "print(\"v_3: \" + str(np.dot(v,T_3)))\n",
    "print(\"v_50: \" + str(np.dot(v,T_50)))\n",
    "print(\"v_100: \" + str(np.dot(v,T_100)))"
   ]
  },
  {
   "cell_type": "markdown",
   "metadata": {},
   "source": [
    "## What is happening in the long run?\n",
    "This time the probability of being in $s_0$ at k=3 is lower (0.812), but in the long run we have the same outcome (0.8333333). <br/>\n",
    "\n",
    "The result after 50 and 100 iterations are the same and v_50 is equal to v_100 no matter which starting distribution we have.\n",
    "\n",
    "The chain converged to equilibrium meaning that as the time progresses it forgets about the starting distribution. But we have to be careful, the convergence is not always guaranteed. The dynamics of a Markov chain can be very complex, in particular it is possible to have transient and recurrent states."
   ]
  },
  {
   "cell_type": "markdown",
   "metadata": {},
   "source": [
    "## (End of Example.  Instructor Return to Slides)"
   ]
  },
  {
   "cell_type": "markdown",
   "metadata": {},
   "source": [
    "<div class=\"lev1\">\n",
    "    <a href=\"#Lecture-1-Support-Notebook\">\n",
    "        <span class=\"toc-item-num\">&nbsp;&nbsp;</span>\n",
    "        Go to TOP\n",
    "    </a>\n",
    "</div>"
   ]
  },
  {
   "cell_type": "markdown",
   "metadata": {},
   "source": [
    "# Bellman Equation"
   ]
  },
  {
   "cell_type": "markdown",
   "metadata": {},
   "source": [
    "### Let's see the Bellman Equation working \n",
    "+ The world has 4x3=12 possible states. \n",
    "+ Actions are: UP = 0, LEFT = 1, DOWN = 2, RIGHT = 3\n",
    "+ The starting vector contains 12 values.\n",
    "+ The transition matrix is a huge 12x12x4 matrix (12 starting states, 12 next states, 4 actions) where most of the values are zeros (we can move only from one state to its neighbours). \n",
    "+ The transition matrix was generated using a script and saved as a Numpy matrix (T.npy). \n",
    "+ The function return_state_utility() is an implementation of the Bellman equation. Using this function we are going to print the utility of the state (1,1) and check if it is the same we found previously."
   ]
  },
  {
   "cell_type": "code",
   "execution_count": 90,
   "metadata": {},
   "outputs": [],
   "source": [
    "def return_state_utility(v, T, u, reward, gamma):\n",
    "    \"\"\"Return the utility of a single state.\n",
    "    This is an implementation of the Bellman equation.\n",
    "\n",
    "    @param v the state vector\n",
    "    @param T transition matrix\n",
    "    @param u utility vector\n",
    "    @param reward for that state\n",
    "    @param gamma discount factor\n",
    "    @return the utility of the state\n",
    "    \"\"\"\n",
    "    action_array = np.zeros(4)\n",
    "    \n",
    "    for action in range(0, 4):\n",
    "        action_array[action] = np.sum(np.multiply(u, np.dot(v, T[:,:,action])))\n",
    "    return reward + gamma * np.max(action_array)"
   ]
  },
  {
   "cell_type": "code",
   "execution_count": 91,
   "metadata": {},
   "outputs": [
    {
     "name": "stdout",
     "output_type": "stream",
     "text": [
      "Utility of state (1,1): 0.7056\n"
     ]
    }
   ],
   "source": [
    "def main():\n",
    "    #Starting state vector\n",
    "    #The agent starts from (1, 1)\n",
    "    v = np.array([[0.0, 0.0, 0.0, 0.0, \n",
    "                   0.0, 0.0, 0.0, 0.0, \n",
    "                   1.0, 0.0, 0.0, 0.0]])\n",
    "\n",
    "    #Transition matrix loaded from file\n",
    "    #(It is too big to write here)\n",
    "    T = np.load(\"T.npy\")\n",
    "    \n",
    "    #Utility vector\n",
    "    u = np.array([[0.812, 0.868, 0.918,   1.0,\n",
    "                   0.762,   0.0, 0.660,  -1.0,\n",
    "                   0.705, 0.655, 0.611, 0.388]])\n",
    "\n",
    "    #Defining the reward for state (1,1)\n",
    "    reward = -0.04\n",
    "    #Assuming that the discount factor is equal to 1.0\n",
    "    gamma = 1.0\n",
    "\n",
    "    #Use the Bellman equation to find the utility of state (1,1)\n",
    "    utility_11 = return_state_utility(v, T, u, reward, gamma)\n",
    "    print(\"Utility of state (1,1): \" + str(utility_11))\n",
    "\n",
    "if __name__ == \"__main__\":\n",
    "    main()"
   ]
  },
  {
   "cell_type": "markdown",
   "metadata": {},
   "source": [
    "## (End of Example.  Instructor Return to Slides)"
   ]
  },
  {
   "cell_type": "markdown",
   "metadata": {},
   "source": [
    "<div class=\"lev1\">\n",
    "    <a href=\"#Lecture-1-Support-Notebook\">\n",
    "        <span class=\"toc-item-num\">&nbsp;&nbsp;</span>\n",
    "        Go to TOP\n",
    "    </a>\n",
    "</div>"
   ]
  },
  {
   "cell_type": "markdown",
   "metadata": {},
   "source": [
    "# Value Iteration\n",
    "Reusing the return_state_utility() function to update the utility vector"
   ]
  },
  {
   "cell_type": "markdown",
   "metadata": {},
   "source": [
    "It is interesting to give a look at the stabilization of each utility during the convergence. Using matplotlib I draw the utility value of each state for 25 iterations"
   ]
  },
  {
   "cell_type": "code",
   "execution_count": 83,
   "metadata": {},
   "outputs": [],
   "source": [
    "#Implementation of the Value Iteration algorithm\n",
    "\n",
    "def generate_graph(utility_list):\n",
    "    \"\"\"Given a list of utility arrays (one for each iteration)\n",
    "       it generates a matplotlib graph and save it as 'output.jpg'\n",
    "    \"\"\"\n",
    "    name_list = ('(1,3)', '(2,3)', '(3,3)', '+1', '(1,2)', '#', '(3,2)', '-1', '(1,1)', '(2,1)', '(3,1)', '(4,1)')\n",
    "    color_list = ('cyan', 'teal', 'blue', 'green', 'magenta', 'black', 'yellow', 'red', 'brown', 'pink', 'gray', 'sienna')\n",
    "    counter = 0\n",
    "    index_vector = np.arange(len(utility_list))\n",
    "    for state in range(12):\n",
    "        state_list = list()\n",
    "        for utility_array in utility_list:\n",
    "             state_list.append(utility_array[state])\n",
    "        plt.plot(index_vector, state_list, color=color_list[state], label=name_list[state])  \n",
    "        counter += 1\n",
    "    #Adjust the legend and the axis\n",
    "    plt.legend(loc='upper center', bbox_to_anchor=(0.5, 0.4), ncol=3, fancybox=True, shadow=True)\n",
    "    plt.ylim((-1.1, +1.1))\n",
    "    plt.xlim((1, len(utility_list)-1))\n",
    "    plt.ylabel('Utility', fontsize=15)\n",
    "    plt.xlabel('Iterations', fontsize=15)\n",
    "    plt.savefig(\"./output.jpg\", dpi=500)"
   ]
  },
  {
   "cell_type": "code",
   "execution_count": 84,
   "metadata": {},
   "outputs": [
    {
     "name": "stdout",
     "output_type": "stream",
     "text": [
      "=================== FINAL RESULT ==================\n",
      "Iterations: 26\n",
      "Delta: 9.511968687869743e-06\n",
      "Gamma: 0.999\n",
      "Epsilon: 0.01\n",
      "===================================================\n",
      "[0.80796341 0.86539911 0.91653199 1.        ]\n",
      "[ 0.75696613  0.          0.65836281 -1.        ]\n",
      "[0.69968168 0.64881721 0.60471137 0.3814863 ]\n",
      "===================================================\n"
     ]
    },
    {
     "data": {
      "image/png": "[encoded data removed]",
      "text/plain": [
       "<Figure size 432x288 with 1 Axes>"
      ]
     },
     "metadata": {},
     "output_type": "display_data"
    }
   ],
   "source": [
    "def main():\n",
    "    #Change as you want\n",
    "    tot_states = 12\n",
    "    gamma = 0.999 #Discount factor\n",
    "    iteration = 0 #Iteration counter\n",
    "    epsilon = 0.01 #Stopping criteria small value\n",
    "\n",
    "    #List containing the data for each iteation\n",
    "    graph_list = list()\n",
    "\n",
    "    #Transition matrix loaded from file (It is too big to write here)\n",
    "    T = np.load(\"T.npy\")\n",
    "\n",
    "    #Reward vector\n",
    "    r = np.array([-0.04, -0.04, -0.04,  +1.0,\n",
    "                  -0.04,   0.0, -0.04,  -1.0,\n",
    "                  -0.04, -0.04, -0.04, -0.04])    \n",
    "\n",
    "    #Utility vectors\n",
    "    u = np.array([0.0, 0.0, 0.0,  0.0,\n",
    "                   0.0, 0.0, 0.0,  0.0,\n",
    "                   0.0, 0.0, 0.0,  0.0])\n",
    "    u1 = np.array([0.0, 0.0, 0.0,  0.0,\n",
    "                    0.0, 0.0, 0.0,  0.0,\n",
    "                    0.0, 0.0, 0.0,  0.0])\n",
    "\n",
    "    while True:\n",
    "        delta = 0\n",
    "        u = u1.copy()\n",
    "        iteration += 1\n",
    "        graph_list.append(u)\n",
    "        for s in range(tot_states):\n",
    "            reward = r[s]\n",
    "            v = np.zeros((1,tot_states))\n",
    "            v[0,s] = 1.0\n",
    "            u1[s] = return_state_utility(v, T, u, reward, gamma)\n",
    "            delta = max(delta, np.abs(u1[s] - u[s]))\n",
    "        #Stopping criteria\n",
    "        if delta < epsilon * (1 - gamma) / gamma:\n",
    "                print(\"=================== FINAL RESULT ==================\")\n",
    "                print(\"Iterations: \" + str(iteration))\n",
    "                print(\"Delta: \" + str(delta))\n",
    "                print(\"Gamma: \" + str(gamma))\n",
    "                print(\"Epsilon: \" + str(epsilon))\n",
    "                print(\"===================================================\")\n",
    "                print(u[0:4])\n",
    "                print(u[4:8])\n",
    "                print(u[8:12])\n",
    "                print(\"===================================================\")\n",
    "                break\n",
    "\n",
    "    generate_graph(graph_list)\n",
    "\n",
    "if __name__ == \"__main__\":\n",
    "    main()"
   ]
  },
  {
   "cell_type": "markdown",
   "metadata": {},
   "source": [
    "Using the same code I run different simulations with different values for the discounting factor gamma. When the discounting factor approaches 1.0 our prediction for the utilities gets more precise. In the limit case of gamma = 1.0 the algorithm will never end because we will never reach the stopping criteria."
   ]
  },
  {
   "cell_type": "code",
   "execution_count": 64,
   "metadata": {},
   "outputs": [
    {
     "name": "stdout",
     "output_type": "stream",
     "text": [
      "=================== FINAL RESULT ==================\n",
      "Iterations: 7\n",
      "Delta: 0.0035943600000000048\n",
      "Gamma: 0.5\n",
      "Epsilon: 0.01\n",
      "===================================================\n",
      "[0.0074148  0.125316   0.38238918 1.        ]\n",
      "[-0.0436268   0.          0.06615218 -1.        ]\n",
      "[-0.0671452 -0.0548572 -0.020434  -0.0749276]\n",
      "===================================================\n"
     ]
    },
    {
     "data": {
      "image/png": "[encoded data removed]",
      "text/plain": [
       "<Figure size 432x288 with 1 Axes>"
      ]
     },
     "metadata": {},
     "output_type": "display_data"
    }
   ],
   "source": [
    "def main():\n",
    "    #Change as you want\n",
    "    tot_states = 12\n",
    "    gamma = 0.5 #Discount factor\n",
    "    iteration = 0 #Iteration counter\n",
    "    epsilon = 0.01 #Stopping criteria small value\n",
    "\n",
    "    #List containing the data for each iteation\n",
    "    graph_list = list()\n",
    "\n",
    "    #Transition matrix loaded from file (It is too big to write here)\n",
    "    T = np.load(\"T.npy\")\n",
    "\n",
    "    #Reward vector\n",
    "    r = np.array([-0.04, -0.04, -0.04,  +1.0,\n",
    "                  -0.04,   0.0, -0.04,  -1.0,\n",
    "                  -0.04, -0.04, -0.04, -0.04])    \n",
    "\n",
    "    #Utility vectors\n",
    "    u = np.array([0.0, 0.0, 0.0,  0.0,\n",
    "                   0.0, 0.0, 0.0,  0.0,\n",
    "                   0.0, 0.0, 0.0,  0.0])\n",
    "    u1 = np.array([0.0, 0.0, 0.0,  0.0,\n",
    "                    0.0, 0.0, 0.0,  0.0,\n",
    "                    0.0, 0.0, 0.0,  0.0])\n",
    "\n",
    "    while True:\n",
    "        delta = 0\n",
    "        u = u1.copy()\n",
    "        iteration += 1\n",
    "        graph_list.append(u)\n",
    "        for s in range(tot_states):\n",
    "            reward = r[s]\n",
    "            v = np.zeros((1,tot_states))\n",
    "            v[0,s] = 1.0\n",
    "            u1[s] = return_state_utility(v, T, u, reward, gamma)\n",
    "            delta = max(delta, np.abs(u1[s] - u[s]))\n",
    "        #Stopping criteria\n",
    "        if delta < epsilon * (1 - gamma) / gamma:\n",
    "                print(\"=================== FINAL RESULT ==================\")\n",
    "                print(\"Iterations: \" + str(iteration))\n",
    "                print(\"Delta: \" + str(delta))\n",
    "                print(\"Gamma: \" + str(gamma))\n",
    "                print(\"Epsilon: \" + str(epsilon))\n",
    "                print(\"===================================================\")\n",
    "                print(u[0:4])\n",
    "                print(u[4:8])\n",
    "                print(u[8:12])\n",
    "                print(\"===================================================\")\n",
    "                break\n",
    "\n",
    "    generate_graph(graph_list)\n",
    "\n",
    "if __name__ == \"__main__\":\n",
    "    main()"
   ]
  },
  {
   "cell_type": "markdown",
   "metadata": {},
   "source": [
    "# TODO: put here the coordinates of the grid worls to compare in the plots"
   ]
  },
  {
   "cell_type": "code",
   "execution_count": 77,
   "metadata": {},
   "outputs": [
    {
     "ename": "NameError",
     "evalue": "name 'return_state_utility' is not defined",
     "output_type": "error",
     "traceback": [
      "\u001b[0;31m---------------------------------------------------------------------------\u001b[0m",
      "\u001b[0;31mNameError\u001b[0m                                 Traceback (most recent call last)",
      "\u001b[0;32m<ipython-input-77-87978ab34ee5>\u001b[0m in \u001b[0;36m<module>\u001b[0;34m()\u001b[0m\n\u001b[1;32m     53\u001b[0m \u001b[0;34m\u001b[0m\u001b[0m\n\u001b[1;32m     54\u001b[0m \u001b[0;32mif\u001b[0m \u001b[0m__name__\u001b[0m \u001b[0;34m==\u001b[0m \u001b[0;34m\"__main__\"\u001b[0m\u001b[0;34m:\u001b[0m\u001b[0;34m\u001b[0m\u001b[0m\n\u001b[0;32m---> 55\u001b[0;31m     \u001b[0mmain\u001b[0m\u001b[0;34m(\u001b[0m\u001b[0;34m)\u001b[0m\u001b[0;34m\u001b[0m\u001b[0m\n\u001b[0m",
      "\u001b[0;32m<ipython-input-77-87978ab34ee5>\u001b[0m in \u001b[0;36mmain\u001b[0;34m()\u001b[0m\n\u001b[1;32m     34\u001b[0m             \u001b[0mv\u001b[0m \u001b[0;34m=\u001b[0m \u001b[0mnp\u001b[0m\u001b[0;34m.\u001b[0m\u001b[0mzeros\u001b[0m\u001b[0;34m(\u001b[0m\u001b[0;34m(\u001b[0m\u001b[0;36m1\u001b[0m\u001b[0;34m,\u001b[0m\u001b[0mtot_states\u001b[0m\u001b[0;34m)\u001b[0m\u001b[0;34m)\u001b[0m\u001b[0;34m\u001b[0m\u001b[0m\n\u001b[1;32m     35\u001b[0m             \u001b[0mv\u001b[0m\u001b[0;34m[\u001b[0m\u001b[0;36m0\u001b[0m\u001b[0;34m,\u001b[0m\u001b[0ms\u001b[0m\u001b[0;34m]\u001b[0m \u001b[0;34m=\u001b[0m \u001b[0;36m1.0\u001b[0m\u001b[0;34m\u001b[0m\u001b[0m\n\u001b[0;32m---> 36\u001b[0;31m             \u001b[0mu1\u001b[0m\u001b[0;34m[\u001b[0m\u001b[0ms\u001b[0m\u001b[0;34m]\u001b[0m \u001b[0;34m=\u001b[0m \u001b[0mreturn_state_utility\u001b[0m\u001b[0;34m(\u001b[0m\u001b[0mv\u001b[0m\u001b[0;34m,\u001b[0m \u001b[0mT\u001b[0m\u001b[0;34m,\u001b[0m \u001b[0mu\u001b[0m\u001b[0;34m,\u001b[0m \u001b[0mreward\u001b[0m\u001b[0;34m,\u001b[0m \u001b[0mgamma\u001b[0m\u001b[0;34m)\u001b[0m\u001b[0;34m\u001b[0m\u001b[0m\n\u001b[0m\u001b[1;32m     37\u001b[0m             \u001b[0mdelta\u001b[0m \u001b[0;34m=\u001b[0m \u001b[0mmax\u001b[0m\u001b[0;34m(\u001b[0m\u001b[0mdelta\u001b[0m\u001b[0;34m,\u001b[0m \u001b[0mnp\u001b[0m\u001b[0;34m.\u001b[0m\u001b[0mabs\u001b[0m\u001b[0;34m(\u001b[0m\u001b[0mu1\u001b[0m\u001b[0;34m[\u001b[0m\u001b[0ms\u001b[0m\u001b[0;34m]\u001b[0m \u001b[0;34m-\u001b[0m \u001b[0mu\u001b[0m\u001b[0;34m[\u001b[0m\u001b[0ms\u001b[0m\u001b[0;34m]\u001b[0m\u001b[0;34m)\u001b[0m\u001b[0;34m)\u001b[0m\u001b[0;34m\u001b[0m\u001b[0m\n\u001b[1;32m     38\u001b[0m         \u001b[0;31m#Stopping criteria\u001b[0m\u001b[0;34m\u001b[0m\u001b[0;34m\u001b[0m\u001b[0m\n",
      "\u001b[0;31mNameError\u001b[0m: name 'return_state_utility' is not defined"
     ]
    }
   ],
   "source": [
    "def main():\n",
    "    #Change as you want\n",
    "    tot_states = 12\n",
    "    gamma = 0.9 #Discount factor\n",
    "    iteration = 0 #Iteration counter\n",
    "    epsilon = 0.01 #Stopping criteria small value\n",
    "\n",
    "    #List containing the data for each iteation\n",
    "    graph_list = list()\n",
    "\n",
    "    #Transition matrix loaded from file (It is too big to write here)\n",
    "    T = np.load(\"T.npy\")\n",
    "\n",
    "    #Reward vector\n",
    "    r = np.array([-0.04, -0.04, -0.04,  +1.0,\n",
    "                  -0.04,   0.0, -0.04,  -1.0,\n",
    "                  -0.04, -0.04, -0.04, -0.04])    \n",
    "\n",
    "    #Utility vectors\n",
    "    u = np.array([0.0, 0.0, 0.0,  0.0,\n",
    "                   0.0, 0.0, 0.0,  0.0,\n",
    "                   0.0, 0.0, 0.0,  0.0])\n",
    "    u1 = np.array([0.0, 0.0, 0.0,  0.0,\n",
    "                    0.0, 0.0, 0.0,  0.0,\n",
    "                    0.0, 0.0, 0.0,  0.0])\n",
    "\n",
    "    while True:\n",
    "        delta = 0\n",
    "        u = u1.copy()\n",
    "        iteration += 1\n",
    "        graph_list.append(u)\n",
    "        for s in range(tot_states):\n",
    "            reward = r[s]\n",
    "            v = np.zeros((1,tot_states))\n",
    "            v[0,s] = 1.0\n",
    "            u1[s] = return_state_utility(v, T, u, reward, gamma)\n",
    "            delta = max(delta, np.abs(u1[s] - u[s]))\n",
    "        #Stopping criteria\n",
    "        if delta < epsilon * (1 - gamma) / gamma:\n",
    "                print(\"=================== FINAL RESULT ==================\")\n",
    "                print(\"Iterations: \" + str(iteration))\n",
    "                print(\"Delta: \" + str(delta))\n",
    "                print(\"Gamma: \" + str(gamma))\n",
    "                print(\"Epsilon: \" + str(epsilon))\n",
    "                print(\"===================================================\")\n",
    "                print(u[0:4])\n",
    "                print(u[4:8])\n",
    "                print(u[8:12])\n",
    "                print(\"===================================================\")\n",
    "                break\n",
    "\n",
    "    generate_graph(graph_list)\n",
    "\n",
    "if __name__ == \"__main__\":\n",
    "    main()"
   ]
  },
  {
   "cell_type": "markdown",
   "metadata": {},
   "source": [
    "## (End of Example.  Instructor Return to Slides)"
   ]
  },
  {
   "cell_type": "markdown",
   "metadata": {},
   "source": [
    "<div class=\"lev1\">\n",
    "    <a href=\"#Lecture-1-Support-Notebook\">\n",
    "        <span class=\"toc-item-num\">&nbsp;&nbsp;</span>\n",
    "        Go to TOP\n",
    "    </a>\n",
    "</div>"
   ]
  },
  {
   "cell_type": "markdown",
   "metadata": {},
   "source": [
    "# RL Example"
   ]
  },
  {
   "cell_type": "code",
   "execution_count": 1,
   "metadata": {},
   "outputs": [
    {
     "name": "stdout",
     "output_type": "stream",
     "text": [
      "Collecting tqdm\n",
      "\u001b[?25l  Downloading https://files.pythonhosted.org/packages/cd/80/5bb262050dd2f30f8819626b7c92339708fe2ed7bd5554c8193b4487b367/tqdm-4.42.1-py2.py3-none-any.whl (59kB)\n",
      "\u001b[K    100% |████████████████████████████████| 61kB 3.9MB/s ta 0:00:011\n",
      "\u001b[31mamazonei-mxnet 1.5.1 has requirement numpy<1.15.0,>=1.8.2, but you'll have numpy 1.15.2 which is incompatible.\u001b[0m\n",
      "\u001b[?25hInstalling collected packages: tqdm\n",
      "Successfully installed tqdm-4.42.1\n",
      "\u001b[33mYou are using pip version 10.0.1, however version 20.0.2 is available.\n",
      "You should consider upgrading via the 'pip install --upgrade pip' command.\u001b[0m\n"
     ]
    }
   ],
   "source": [
    "# INSTALL THIS PACKAGE THE FIRST TIME YOU RUN THIS INSTANCE\n",
    "!pip install tqdm"
   ]
  },
  {
   "cell_type": "code",
   "execution_count": 2,
   "metadata": {},
   "outputs": [],
   "source": [
    "from tqdm import tqdm\n",
    "import numpy as np\n",
    "import pandas as pd\n",
    "import matplotlib.pyplot as plt\n",
    "plt.rcParams.update({'figure.max_open_warning': 0})\n",
    "import seaborn as sns\n",
    "sns.set_style(\"darkgrid\")\n",
    "import matplotlib.patches as mpatches\n",
    "import matplotlib.lines as mlines\n",
    "#%pylab inline\n",
    "import random\n",
    "%matplotlib inline"
   ]
  },
  {
   "cell_type": "markdown",
   "metadata": {},
   "source": [
    "# Policy Iteration I\n",
    "Once we evaluate the policy we can improve it. \n",
    "The policy improvement is the second and last step of the algorithm. <br/>\n",
    "Our environment has a finite number of states and then a finite number of policies. Each iteration yields to a better policy. <br/>\n",
    "The function **return_policy_evaluation()** below contains the simplified version of the Bellman equation. \n",
    "We also need the function **return_expected_action()**, which returns the action with the highest value based on the current value of $v$ and $T$. <br/>\n",
    "We also have a printing function, that map each action contained in the policy vector $p$ to a symbol and print it on terminal."
   ]
  },
  {
   "cell_type": "code",
   "execution_count": 3,
   "metadata": {},
   "outputs": [],
   "source": [
    "def return_policy_evaluation(p, u, r, T, gamma):\n",
    "    \"\"\"\n",
    "        Implements the simplified version of the Bellman Equation\n",
    "    \"\"\"\n",
    "    for s in range(12):\n",
    "        if not np.isnan(p[s]):\n",
    "            v = np.zeros((1,12))\n",
    "            v[0,s] = 1.0\n",
    "            action = int(p[s])\n",
    "            u[s] = r[s] + gamma * np.sum(np.multiply(u, np.dot(v, T[:,:,action])))\n",
    "    return u"
   ]
  },
  {
   "cell_type": "code",
   "execution_count": 4,
   "metadata": {},
   "outputs": [],
   "source": [
    "def return_expected_action(u, T, v):\n",
    "    \"\"\"Return the expected action.\n",
    "    It returns an action based on the\n",
    "    expected utility of doing a in state s, \n",
    "    according to T and u. This action is\n",
    "    the one that maximize the expected\n",
    "    utility.\n",
    "    @param u utility vector\n",
    "    @param T transition matrix\n",
    "    @param v starting vector\n",
    "    @return expected action (int)\n",
    "    \"\"\"\n",
    "    actions_array = np.zeros(4)\n",
    "    for action in range(4):\n",
    "        #Expected utility of doing a in state s, according to T and u.\n",
    "        actions_array[action] = np.sum(np.multiply(u, np.dot(v, T[:,:,action])))\n",
    "    return np.argmax(actions_array)"
   ]
  },
  {
   "cell_type": "code",
   "execution_count": 5,
   "metadata": {},
   "outputs": [],
   "source": [
    "# Nan=Nothing, -1=Terminal, 0=Up, 1=Left, 2=Down, 3=Right\n",
    "def to_label_vector(vals):\n",
    "    vec = []\n",
    "    for v in vals:\n",
    "        label = ''\n",
    "        if v == -1:\n",
    "            label = 'T'\n",
    "        if v == 0:\n",
    "            label = '^'\n",
    "        if v == 1:\n",
    "            label = '<'\n",
    "        if v == 2:\n",
    "            label = 'v'\n",
    "        if v == 3:\n",
    "            label = '>'\n",
    "        if v == 4:\n",
    "            label = '#'\n",
    "        vec.append(label)\n",
    "    return np.array(vec)"
   ]
  },
  {
   "cell_type": "code",
   "execution_count": 6,
   "metadata": {},
   "outputs": [],
   "source": [
    "def print_policy(p, iteration, shape):\n",
    "    \"\"\"Print the policy on the terminal\n",
    "    Using the symbol:\n",
    "    * Terminal state\n",
    "    ^ Up\n",
    "    > Right\n",
    "    v Down\n",
    "    < Left\n",
    "    # Obstacle\n",
    "    \"\"\"\n",
    "    labels = to_label_vector(p)\n",
    "    reshaped_grid = p.reshape(3, 4)\n",
    "    reshaped_labels = labels.reshape(3, 4)\n",
    "        \n",
    "    _, ax = plt.subplots(figsize=(shape[0],shape[1]))\n",
    "    sns.heatmap(reshaped_grid,\n",
    "                    cmap=['white'],\n",
    "                    cbar=False, xticklabels=False, yticklabels=False,\n",
    "                    linecolor='black',\n",
    "                    linewidths=1,\n",
    "                    annot=reshaped_labels,\n",
    "                    fmt='',\n",
    "                    annot_kws={\"size\": 20},\n",
    "                    ax=ax)\n",
    "    ax.set_title('Iteration' + str(iteration))\n",
    "    \n",
    "    \n"
   ]
  },
  {
   "cell_type": "markdown",
   "metadata": {},
   "source": [
    "Now I am going to use these functions in a main loop which is an implementation of the policy iteration algorithm. <br/>\n",
    "+ Vector $p$ contains the actions for each state.\n",
    "+ The stopping condition of the algorithm is the difference between the **state-value** vectors of two consecutive iterations. \n",
    "+ The algorithm terminates when the improvement step yields no change (or a very small change) in the state-values."
   ]
  },
  {
   "cell_type": "code",
   "execution_count": 7,
   "metadata": {},
   "outputs": [],
   "source": [
    "def main_iterative():\n",
    "    \"\"\"Finding the solution using the iterative approach\n",
    "    \"\"\"\n",
    "    gamma = 0.999\n",
    "    iteration = 0\n",
    "    T = np.load(\"T.npy\")\n",
    "\n",
    "    #Generate the first policy randomly\n",
    "    # Nan=Nothing, -1=Terminal, 0=Up, 1=Left, 2=Down, 3=Right\n",
    "    p = np.random.randint(0, 4, size=(12)).astype(np.float32)\n",
    "    p[5] = np.NaN\n",
    "    p[3] = p[7] = -1\n",
    "\n",
    "    #Utility vectors\n",
    "    u = np.array([0.0, 0.0, 0.0,  0.0,\n",
    "                   0.0, 0.0, 0.0,  0.0,\n",
    "                   0.0, 0.0, 0.0,  0.0])\n",
    "\n",
    "    #Reward vector\n",
    "    r = np.array([-0.04, -0.04, -0.04,  +1.0,\n",
    "                  -0.04,   0.0, -0.04,  -1.0,\n",
    "                  -0.04, -0.04, -0.04, -0.04])\n",
    "\n",
    "    while True:\n",
    "        iteration += 1\n",
    "        epsilon = 0.0001\n",
    "        #1- Policy evaluation\n",
    "        u1 = u.copy()\n",
    "        u = return_policy_evaluation(p, u, r, T, gamma)\n",
    "        #Stopping criteria\n",
    "        delta = np.absolute(u - u1).max()\n",
    "        if delta < epsilon * (1 - gamma) / gamma: break\n",
    "        for s in range(12):\n",
    "            if not np.isnan(p[s]) and not p[s]==-1:\n",
    "                v = np.zeros((1,12))\n",
    "                v[0,s] = 1.0\n",
    "                #2- Policy improvement\n",
    "                a = return_expected_action(u, T, v)         \n",
    "                if a != p[s]: p[s] = a\n",
    "        \n",
    "        print_policy(p,iteration, shape=(3,4))\n",
    "\n",
    "    print(\"=================== FINAL RESULT ==================\")\n",
    "    print(\"Iterations: \" + str(iteration))\n",
    "    print(\"Delta: \" + str(delta))\n",
    "    print(\"Gamma: \" + str(gamma))\n",
    "    print(\"Epsilon: \" + str(epsilon))\n",
    "    print(\"===================================================\")\n",
    "    #print(u[0:4])\n",
    "    #print(u[4:8])\n",
    "    #print(u[8:12])\n",
    "    #print(\"===================================================\")\n",
    "    #print_policy(p, shape=(3,4))\n",
    "    print(\"===================================================\")\n",
    "\n",
    "    u = u.reshape(3, 4)\n",
    "    df_u = pd.DataFrame(data=u)\n",
    "    #df_u.columns=[\"T\", \"0\", \" \", \" \"]\n",
    "    #df_u.style.hide_index()\n",
    "    print(df_u)\n",
    "    plt.close()"
   ]
  },
  {
   "cell_type": "markdown",
   "metadata": {},
   "source": [
    "Running the script with gamma=0.999 and epsilon=0.0001, we get convergence in 22 iterations with the following result:"
   ]
  },
  {
   "cell_type": "code",
   "execution_count": 8,
   "metadata": {},
   "outputs": [
    {
     "name": "stdout",
     "output_type": "stream",
     "text": [
      "=================== FINAL RESULT ==================\n",
      "Iterations: 23\n",
      "Delta: 3.434537421131978e-08\n",
      "Gamma: 0.999\n",
      "Epsilon: 0.0001\n",
      "===================================================\n",
      "===================================================\n",
      "          0         1         2         3\n",
      "0  0.807963  0.865399  0.916532  1.000000\n",
      "1  0.756966  0.000000  0.658363 -1.000000\n",
      "2  0.699683  0.648821  0.604720  0.381504\n"
     ]
    },
    {
     "data": {
      "image/png": "[encoded data removed]",
      "text/plain": [
       "<Figure size 216x288 with 1 Axes>"
      ]
     },
     "metadata": {},
     "output_type": "display_data"
    },
    {
     "data": {
      "image/png": "[encoded data removed]",
      "text/plain": [
       "<Figure size 216x288 with 1 Axes>"
      ]
     },
     "metadata": {},
     "output_type": "display_data"
    },
    {
     "data": {
      "image/png": "[encoded data removed]",
      "text/plain": [
       "<Figure size 216x288 with 1 Axes>"
      ]
     },
     "metadata": {},
     "output_type": "display_data"
    },
    {
     "data": {
      "image/png": "[encoded data removed]",
      "text/plain": [
       "<Figure size 216x288 with 1 Axes>"
      ]
     },
     "metadata": {},
     "output_type": "display_data"
    },
    {
     "data": {
      "image/png": "[encoded data removed]",
      "text/plain": [
       "<Figure size 216x288 with 1 Axes>"
      ]
     },
     "metadata": {},
     "output_type": "display_data"
    },
    {
     "data": {
      "image/png": "[encoded data removed]",
      "text/plain": [
       "<Figure size 216x288 with 1 Axes>"
      ]
     },
     "metadata": {},
     "output_type": "display_data"
    },
    {
     "data": {
      "image/png": "[encoded data removed]",
      "text/plain": [
       "<Figure size 216x288 with 1 Axes>"
      ]
     },
     "metadata": {},
     "output_type": "display_data"
    },
    {
     "data": {
      "image/png": "[encoded data removed]",
      "text/plain": [
       "<Figure size 216x288 with 1 Axes>"
      ]
     },
     "metadata": {},
     "output_type": "display_data"
    },
    {
     "data": {
      "image/png": "[encoded data removed]",
      "text/plain": [
       "<Figure size 216x288 with 1 Axes>"
      ]
     },
     "metadata": {},
     "output_type": "display_data"
    },
    {
     "data": {
      "image/png": "[encoded data removed]",
      "text/plain": [
       "<Figure size 216x288 with 1 Axes>"
      ]
     },
     "metadata": {},
     "output_type": "display_data"
    },
    {
     "data": {
      "image/png": "[encoded data removed]",
      "text/plain": [
       "<Figure size 216x288 with 1 Axes>"
      ]
     },
     "metadata": {},
     "output_type": "display_data"
    },
    {
     "data": {
      "image/png": "[encoded data removed]",
      "text/plain": [
       "<Figure size 216x288 with 1 Axes>"
      ]
     },
     "metadata": {},
     "output_type": "display_data"
    },
    {
     "data": {
      "image/png": "[encoded data removed]",
      "text/plain": [
       "<Figure size 216x288 with 1 Axes>"
      ]
     },
     "metadata": {},
     "output_type": "display_data"
    },
    {
     "data": {
      "image/png": "[encoded data removed]",
      "text/plain": [
       "<Figure size 216x288 with 1 Axes>"
      ]
     },
     "metadata": {},
     "output_type": "display_data"
    },
    {
     "data": {
      "image/png": "[encoded data removed]",
      "text/plain": [
       "<Figure size 216x288 with 1 Axes>"
      ]
     },
     "metadata": {},
     "output_type": "display_data"
    },
    {
     "data": {
      "image/png": "[encoded data removed]",
      "text/plain": [
       "<Figure size 216x288 with 1 Axes>"
      ]
     },
     "metadata": {},
     "output_type": "display_data"
    },
    {
     "data": {
      "image/png": "[encoded data removed]",
      "text/plain": [
       "<Figure size 216x288 with 1 Axes>"
      ]
     },
     "metadata": {},
     "output_type": "display_data"
    },
    {
     "data": {
      "image/png": "[encoded data removed]",
      "text/plain": [
       "<Figure size 216x288 with 1 Axes>"
      ]
     },
     "metadata": {},
     "output_type": "display_data"
    },
    {
     "data": {
      "image/png": "[encoded data removed]",
      "text/plain": [
       "<Figure size 216x288 with 1 Axes>"
      ]
     },
     "metadata": {},
     "output_type": "display_data"
    },
    {
     "data": {
      "image/png": "[encoded data removed]",
      "text/plain": [
       "<Figure size 216x288 with 1 Axes>"
      ]
     },
     "metadata": {},
     "output_type": "display_data"
    },
    {
     "data": {
      "image/png": "[encoded data removed]",
      "text/plain": [
       "<Figure size 216x288 with 1 Axes>"
      ]
     },
     "metadata": {},
     "output_type": "display_data"
    }
   ],
   "source": [
    "def main():\n",
    "\n",
    "    main_iterative()\n",
    "    #main_linalg()\n",
    "\n",
    "if __name__ == \"__main__\":\n",
    "    main()\n",
    "    "
   ]
  },
  {
   "cell_type": "markdown",
   "metadata": {},
   "source": [
    "<img src=\"../images/RL-lecture1-1.png\" alt=\"Drawing\" style=\"width: 500px;\">\n",
    "\n",
    "## Conclusion\n",
    "The final policy returned by the algorithm is equal to the optimal policy.<br/>\n",
    "Moreover, using the simplified Bellman equation the algorithm managed to find good values for the utility vector. <br/>\n",
    "+ The policy evolution shows something interesting: \n",
    "    + At the beginning the policy is randomly generated. \n",
    "    + After four iterations the algorithm finds a sub-optimal policy and sticks to it until iteration 10 when it finds the optimal policy.\n",
    "    + From iteration 10 until iteration 22 the algorithm does not change the policy at all. \n",
    "\n",
    "###### A sub-optimal policy can be a problem in model-free reinforcement learning, because **greedy agents** can stick to it, for the moment it is not a problem for us. We will learn more about greedy agents on a further lecture!"
   ]
  },
  {
   "cell_type": "markdown",
   "metadata": {},
   "source": [
    "## (End of Example.  Instructor Return to Slides)"
   ]
  },
  {
   "cell_type": "markdown",
   "metadata": {},
   "source": [
    "<div class=\"lev1\">\n",
    "    <a href=\"#Lecture-1-Support-Notebook\">\n",
    "        <span class=\"toc-item-num\">&nbsp;&nbsp;</span>\n",
    "        Go to TOP\n",
    "    </a>\n",
    "</div>"
   ]
  },
  {
   "cell_type": "markdown",
   "metadata": {},
   "source": [
    "# Policy Iteration II\n",
    "Implementation of the iterative policy evaluation and update showing how the deltas for each state decay to 0 as we reach convergence."
   ]
  },
  {
   "cell_type": "markdown",
   "metadata": {},
   "source": [
    "### Parameters"
   ]
  },
  {
   "cell_type": "code",
   "execution_count": 102,
   "metadata": {},
   "outputs": [],
   "source": [
    "gamma = 1 # discounting rate\n",
    "rewardSize = -1\n",
    "gridSize = 4\n",
    "terminationStates = [[0,0], [gridSize-1, gridSize-1]]\n",
    "actions = [[-1, 0], [1, 0], [0, 1], [0, -1]]\n",
    "numIterations = 1000"
   ]
  },
  {
   "cell_type": "code",
   "execution_count": 103,
   "metadata": {},
   "outputs": [],
   "source": [
    "def actionRewardFunction(initialPosition, action):\n",
    "    \n",
    "    if initialPosition in terminationStates:\n",
    "        return initialPosition, 0\n",
    "    \n",
    "    reward = rewardSize\n",
    "    finalPosition = np.array(initialPosition) + np.array(action)\n",
    "    if -1 in finalPosition or 4 in finalPosition: \n",
    "        finalPosition = initialPosition\n",
    "        \n",
    "    return finalPosition, reward"
   ]
  },
  {
   "cell_type": "markdown",
   "metadata": {},
   "source": [
    "### Initialization"
   ]
  },
  {
   "cell_type": "code",
   "execution_count": 104,
   "metadata": {},
   "outputs": [
    {
     "data": {
      "text/plain": [
       "array([[0., 0., 0., 0.],\n",
       "       [0., 0., 0., 0.],\n",
       "       [0., 0., 0., 0.],\n",
       "       [0., 0., 0., 0.]])"
      ]
     },
     "execution_count": 104,
     "metadata": {},
     "output_type": "execute_result"
    }
   ],
   "source": [
    "valueMap = np.zeros((gridSize, gridSize))\n",
    "states = [[i, j] for i in range(gridSize) for j in range(gridSize)]\n",
    "\n",
    "# values of the value function at step 0\n",
    "valueMap"
   ]
  },
  {
   "cell_type": "markdown",
   "metadata": {},
   "source": [
    "### Policy evaluation\n",
    "Notice that we can repeat this process over and over in which we “sweep” and update the state-value function for all the states. <br/>\n",
    "These values can get iteratively updated until reaching convergence. <br/>\n",
    "In fact in the iterative policy evaluation algorithm, you can see we calculate some delta that reflect how much the value of a state changes respect the previous value. <br/>\n",
    "These deltas decay over the iterations and are supposed to reach 0 at the infinity."
   ]
  },
  {
   "cell_type": "code",
   "execution_count": 105,
   "metadata": {},
   "outputs": [
    {
     "name": "stdout",
     "output_type": "stream",
     "text": [
      "Iteration 1\n",
      "[[ 0. -1. -1. -1.]\n",
      " [-1. -1. -1. -1.]\n",
      " [-1. -1. -1. -1.]\n",
      " [-1. -1. -1.  0.]]\n",
      "\n",
      "Iteration 2\n",
      "[[ 0.   -1.75 -2.   -2.  ]\n",
      " [-1.75 -2.   -2.   -2.  ]\n",
      " [-2.   -2.   -2.   -1.75]\n",
      " [-2.   -2.   -1.75  0.  ]]\n",
      "\n",
      "Iteration 3\n",
      "[[ 0.     -2.4375 -2.9375 -3.    ]\n",
      " [-2.4375 -2.875  -3.     -2.9375]\n",
      " [-2.9375 -3.     -2.875  -2.4375]\n",
      " [-3.     -2.9375 -2.4375  0.    ]]\n",
      "\n",
      "Iteration 10\n",
      "[[ 0.         -6.13796997 -8.35235596 -8.96731567]\n",
      " [-6.13796997 -7.73739624 -8.42782593 -8.35235596]\n",
      " [-8.35235596 -8.42782593 -7.73739624 -6.13796997]\n",
      " [-8.96731567 -8.35235596 -6.13796997  0.        ]]\n",
      "\n",
      "Iteration 100\n",
      "[[  0.         -13.94260509 -19.91495107 -21.90482522]\n",
      " [-13.94260509 -17.92507693 -19.91551999 -19.91495107]\n",
      " [-19.91495107 -19.91551999 -17.92507693 -13.94260509]\n",
      " [-21.90482522 -19.91495107 -13.94260509   0.        ]]\n",
      "\n",
      "Iteration 1000\n",
      "[[  0. -14. -20. -22.]\n",
      " [-14. -18. -20. -20.]\n",
      " [-20. -20. -18. -14.]\n",
      " [-22. -20. -14.   0.]]\n",
      "\n"
     ]
    }
   ],
   "source": [
    "deltas = []\n",
    "for it in range(numIterations):\n",
    "    copyValueMap = np.copy(valueMap)\n",
    "    deltaState = []\n",
    "    for state in states:\n",
    "        weightedRewards = 0\n",
    "        for action in actions:\n",
    "            finalPosition, reward = actionRewardFunction(state, action)\n",
    "            weightedRewards += (1/len(actions))*(reward+(gamma*valueMap[finalPosition[0], finalPosition[1]]))\n",
    "        deltaState.append(np.abs(copyValueMap[state[0], state[1]]-weightedRewards))\n",
    "        copyValueMap[state[0], state[1]] = weightedRewards\n",
    "    deltas.append(deltaState)\n",
    "    valueMap = copyValueMap\n",
    "    if it in [0,1,2,9, 99, numIterations-1]:\n",
    "        print(\"Iteration {}\".format(it+1))\n",
    "        print(valueMap)\n",
    "        print(\"\")"
   ]
  },
  {
   "cell_type": "markdown",
   "metadata": {},
   "source": [
    "### Delta Convergence\n",
    "Observe in the end how the deltas for each state decay to 0 as we reach convergence"
   ]
  },
  {
   "cell_type": "code",
   "execution_count": 106,
   "metadata": {},
   "outputs": [
    {
     "data": {
      "text/plain": [
       "[<matplotlib.lines.Line2D at 0x7fe6b958cd30>,\n",
       " <matplotlib.lines.Line2D at 0x7fe6b958ceb8>,\n",
       " <matplotlib.lines.Line2D at 0x7fe6b9516080>,\n",
       " <matplotlib.lines.Line2D at 0x7fe6b9516208>,\n",
       " <matplotlib.lines.Line2D at 0x7fe6b9516390>,\n",
       " <matplotlib.lines.Line2D at 0x7fe6b9516518>,\n",
       " <matplotlib.lines.Line2D at 0x7fe6b95166a0>,\n",
       " <matplotlib.lines.Line2D at 0x7fe6b9516828>,\n",
       " <matplotlib.lines.Line2D at 0x7fe6b95169b0>,\n",
       " <matplotlib.lines.Line2D at 0x7fe6b9516b38>,\n",
       " <matplotlib.lines.Line2D at 0x7fe6b9574668>,\n",
       " <matplotlib.lines.Line2D at 0x7fe6b9516e10>,\n",
       " <matplotlib.lines.Line2D at 0x7fe6b9516f98>,\n",
       " <matplotlib.lines.Line2D at 0x7fe6b951a160>,\n",
       " <matplotlib.lines.Line2D at 0x7fe6b951a2e8>,\n",
       " <matplotlib.lines.Line2D at 0x7fe6b951a470>]"
      ]
     },
     "execution_count": 106,
     "metadata": {},
     "output_type": "execute_result"
    },
    {
     "data": {
      "image/png": "[encoded data removed]",
      "text/plain": [
       "<Figure size 1440x720 with 1 Axes>"
      ]
     },
     "metadata": {},
     "output_type": "display_data"
    }
   ],
   "source": [
    "# TODO: legends\n",
    "plt.figure(figsize=(20, 10))\n",
    "plt.plot(deltas)"
   ]
  },
  {
   "cell_type": "markdown",
   "metadata": {},
   "source": [
    "<div class=\"lev1\">\n",
    "    <a href=\"#Lecture-1-Support-Notebook\">\n",
    "        <span class=\"toc-item-num\">&nbsp;&nbsp;</span>\n",
    "        Go to TOP\n",
    "    </a>\n",
    "</div>"
   ]
  },
  {
   "cell_type": "code",
   "execution_count": null,
   "metadata": {},
   "outputs": [],
   "source": []
  }
 ],
 "metadata": {
  "kernelspec": {
   "display_name": "Python 3",
   "language": "python",
   "name": "python3"
  },
  "language_info": {
   "codemirror_mode": {
    "name": "ipython",
    "version": 3
   },
   "file_extension": ".py",
   "mimetype": "text/x-python",
   "name": "python",
   "nbconvert_exporter": "python",
   "pygments_lexer": "ipython3",
   "version": "3.7.6"
  }
 },
 "nbformat": 4,
 "nbformat_minor": 4
}
