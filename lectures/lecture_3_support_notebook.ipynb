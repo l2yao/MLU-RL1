{
 "cells": [
  {
   "cell_type": "markdown",
   "metadata": {},
   "source": [
    "![MLU Logo](https://drive.corp.amazon.com/view/bwernes@/MLU_Logo.png?download=true)"
   ]
  },
  {
   "cell_type": "markdown",
   "metadata": {},
   "source": [
    "# Lecture 3 Supporting Notebook"
   ]
  },
  {
   "cell_type": "markdown",
   "metadata": {},
   "source": [
    "### Table of Contents\n",
    "<p>\n",
    "<div class=\"lev1\">\n",
    "    <a href=\"#Gradient-Descent\">\n",
    "        <span class=\"toc-item-num\">1.&nbsp;&nbsp;</span>\n",
    "        Gradient Descent\n",
    "    </a>\n",
    "</div>\n",
    "<div class=\"lev1\">\n",
    "    <a href=\"#MC-Approximator\">\n",
    "        <span class=\"toc-item-num\">2.&nbsp;&nbsp;</span>\n",
    "        MC Approximator\n",
    "    </a>\n",
    "</div>\n",
    "<div class=\"lev1\">\n",
    "    <a href=\"#Multiple-Tiles-for-Multiple-Features\">\n",
    "        <span class=\"toc-item-num\">2.&nbsp;&nbsp;</span>\n",
    "        Multiple Tiles for Multiple Features\n",
    "    </a>\n",
    "</div>\n",
    "<div class=\"lev1\">\n",
    "    <a href=\"#TD(0)-Approximator\"><span class=\"toc-item-num\">4.&nbsp;&nbsp;</span>\n",
    "        TD(0) Approximator\n",
    "    </a>\n",
    "</div>"
   ]
  },
  {
   "cell_type": "markdown",
   "metadata": {},
   "source": [
    "ref. https://github.com/jcassiojr/Reinforcement-Learning-In-Motion/tree/master/Unit-8-The-Mountaincar\n",
    "\n",
    "This note book is based on the lectures from Phil tabor. Yopu can find his complete video course on O'reilly website. "
   ]
  },
  {
   "cell_type": "markdown",
   "metadata": {},
   "source": [
    "# Gradient Descent"
   ]
  },
  {
   "cell_type": "code",
   "execution_count": 2,
   "metadata": {},
   "outputs": [],
   "source": [
    "# Uncomment and run the command below the first time you start your instance\n",
    "! pip install gym"
   ]
  },
  {
   "cell_type": "code",
   "execution_count": 3,
   "metadata": {},
   "outputs": [],
   "source": [
    "import sys\n",
    "if \"../\" not in sys.path:\n",
    "    sys.path.append(\"../\")\n",
    "import numpy as np\n",
    "import gym\n",
    "import matplotlib.pyplot as plt\n",
    "import seaborn as sns\n",
    "%matplotlib inline"
   ]
  },
  {
   "cell_type": "code",
   "execution_count": 2,
   "metadata": {
    "scrolled": false
   },
   "outputs": [
    {
     "name": "stdout",
     "output_type": "stream",
     "text": [
      "Step: 0, difference: -5.4\n",
      "Step: 1, difference: 0.023760000000000003\n",
      "Step: 2, difference: 0.025309273140264987\n",
      "Step: 3, difference: 0.026978303236479206\n",
      "Step: 4, difference: 0.028774389122137145\n",
      "Step: 5, difference: 0.030704171104943834\n",
      "Step: 6, difference: 0.03277313550751959\n",
      "Step: 7, difference: 0.03498495575728611\n",
      "Step: 8, difference: 0.03734063397888843\n",
      "Step: 9, difference: 0.03983740658234747\n",
      "Step: 10, difference: 0.04246738230109215\n",
      "Step: 11, difference: 0.04521589529960479\n",
      "Step: 12, difference: 0.04805958449122871\n",
      "Step: 13, difference: 0.05096425942090499\n",
      "Step: 14, difference: 0.05388268959034348\n",
      "Step: 15, difference: 0.05675256261424311\n",
      "Step: 16, difference: 0.0594949956770483\n",
      "Step: 17, difference: 0.06201414040877884\n",
      "Step: 18, difference: 0.06419855881437808\n",
      "Step: 19, difference: 0.06592510511101723\n",
      "Step: 20, difference: 0.0670659367382691\n",
      "Step: 21, difference: 0.06749890133771519\n",
      "Step: 22, difference: 0.06712084685040987\n",
      "Step: 23, difference: 0.06586242786245022\n",
      "Step: 24, difference: 0.06370195454962091\n",
      "Step: 25, difference: 0.06067515017798364\n",
      "Step: 26, difference: 0.05687780792099262\n",
      "Step: 27, difference: 0.052459541600431425\n",
      "Step: 28, difference: 0.04760893808460742\n",
      "Step: 29, difference: 0.0425327592882192\n",
      "Step: 30, difference: 0.03743347657569185\n",
      "Step: 31, difference: 0.032489662383209605\n",
      "Step: 32, difference: 0.027842570193437943\n",
      "Step: 33, difference: 0.02359021082166146\n",
      "Step: 34, difference: 0.019788249686815806\n",
      "Step: 35, difference: 0.016455764593524602\n",
      "Step: 36, difference: 0.013583516820820485\n",
      "Step: 37, difference: 0.01114270508347337\n",
      "Step: 38, difference: 0.009092831544628588\n",
      "Step: 39, difference: 0.007387993490493905\n",
      "Step: 40, difference: 0.005981442727957198\n",
      "Step: 41, difference: 0.004828577199806894\n",
      "Step: 42, difference: 0.003888674996867625\n",
      "Step: 43, difference: 0.0031257076070132506\n",
      "Step: 44, difference: 0.0025085316219675136\n",
      "Step: 45, difference: 0.0020106955609398014\n",
      "Step: 46, difference: 0.0016100341135731888\n",
      "Step: 47, difference: 0.0012881668940809554\n",
      "Step: 48, difference: 0.001029976118198661\n",
      "Step: 49, difference: 0.0008231069329518448\n",
      "Step: 50, difference: 0.0006575133265744881\n",
      "Step: 51, difference: 0.0005250591856875708\n",
      "Step: 52, difference: 0.0004191759761891234\n",
      "Step: 53, difference: 0.00033457398521496984\n",
      "Step: 54, difference: 0.0002670018118808848\n",
      "Step: 55, difference: 0.00021304795404430976\n",
      "Step: 56, difference: 0.00016997831815812603\n",
      "Step: 57, difference: 0.0001356038994284603\n",
      "Step: 58, difference: 0.00010817350395164738\n",
      "Step: 59, difference: 8.628707268698577e-05\n",
      "Step: 60, difference: 6.882584014755722e-05\n",
      "Step: 61, difference: 5.489617795584323e-05\n",
      "Step: 62, difference: 4.378451786646309e-05\n",
      "Step: 63, difference: 3.492121652826086e-05\n",
      "Step: 64, difference: 2.785161888896326e-05\n",
      "Step: 65, difference: 2.2212905597562838e-05\n",
      "Step: 66, difference: 1.7715580638455464e-05\n",
      "Step: 67, difference: 1.4128677038982573e-05\n",
      "Step: 68, difference: 1.126793890104949e-05\n",
      "Step: 69, difference: 8.986384145703852e-06\n",
      "Minimum at  2.2499646074278457\n"
     ]
    }
   ],
   "source": [
    "next_x = 6  # We start the search at x=6\n",
    "gamma = 0.01  # Step size multiplier\n",
    "precision = 0.00001  # Desired precision of result\n",
    "max_iters = 10000  # Maximum number of iterations\n",
    "\n",
    "# Derivative function\n",
    "def df(x):\n",
    "    return 4 * x ** 3 - 9 * x ** 2\n",
    "\n",
    "\n",
    "for _i in range(max_iters):\n",
    "    current_x = next_x\n",
    "    next_x = current_x - gamma * df(current_x)\n",
    "\n",
    "    step = next_x - current_x\n",
    "    print(\"Step: {}, difference: {}\".format(_i, step))\n",
    "    if abs(step) <= precision:\n",
    "        break\n",
    "\n",
    "print(\"Minimum at \", next_x)\n",
    "\n",
    "# The output for the above will be something like\n",
    "# \"Minimum at 2.2499646074278457\""
   ]
  },
  {
   "cell_type": "markdown",
   "metadata": {},
   "source": [
    "<div class=\"lev1\">\n",
    "    <a href=\"#Lecture-3-Supporting-Notebook\"><span class=\"toc-item-num\"></span>\n",
    "        TOP\n",
    "    </a>"
   ]
  },
  {
   "cell_type": "markdown",
   "metadata": {},
   "source": [
    "![MLU Logo](https://drive.corp.amazon.com/view/bwernes@/MLU_Logo.png?download=true)"
   ]
  },
  {
   "cell_type": "markdown",
   "metadata": {},
   "source": [
    "# MC Approximator"
   ]
  },
  {
   "cell_type": "markdown",
   "metadata": {},
   "source": [
    "## Linear Approximator\n",
    "### The Mountain Car Problem\n",
    "<img src=\"../images/RL-lecture3-1.png\" alt=\"Drawing\" style=\"width: 300px;\">\n",
    "The Mountain Car is a classic reinforcement learning problem where the objective is to create an algorithm which learns to climb a steep hill to reach the goal marked by a flag. The car’s engine is not powerful enough to drive up the hill without a head start so the car must drive up the left hill to obtain enough momentum to scale the steeper hill to the right and reach the goal.<br/>\n",
    "\n",
    "+ When the problem begins the car is dropped into the valley and given an initial position and velocity as a vector. **This is the car’s state**.\n",
    "<img src=\"../images/RL-lecture3-2.png\" alt=\"Drawing\" style=\"width: 300px;\">\n",
    "+ The agent must tell the car to take one of three actions: \n",
    "<img src=\"../images/RL-lecture3-3.png\" alt=\"Drawing\" style=\"width: 200px;\">\n",
    "+ This action is sent to the Mountain Car environment algorithm which returns a new state (position and velocity) as well as a reward. \n",
    "+ For each step that the car does not reach the goal, located at position 0.5, the environment returns a **reward** of -1. \n",
    "+ Each episode finishes if the car reach the goal or accumulate a sum of -200 negative rewards.\n",
    "+ We will use these rewards in our MC approximation algorithm to solve the Mountain Car problem."
   ]
  },
  {
   "cell_type": "code",
   "execution_count": 5,
   "metadata": {},
   "outputs": [
    {
     "name": "stderr",
     "output_type": "stream",
     "text": [
      "/home/ec2-user/anaconda3/envs/amazonei_tensorflow_p36/lib/python3.6/site-packages/gym/logger.py:30: UserWarning: \u001b[33mWARN: Box bound precision lowered by casting to float32\u001b[0m\n",
      "  warnings.warn(colorize('%s: %s'%('WARN', msg % args), 'yellow'))\n"
     ]
    }
   ],
   "source": [
    "env = gym.make('MountainCar-v0') "
   ]
  },
  {
   "cell_type": "markdown",
   "metadata": {},
   "source": [
    "### Exploring the Environment"
   ]
  },
  {
   "cell_type": "code",
   "execution_count": 6,
   "metadata": {},
   "outputs": [
    {
     "name": "stdout",
     "output_type": "stream",
     "text": [
      "State space:  Box(2,)\n",
      "Action space:  Discrete(3)\n"
     ]
    }
   ],
   "source": [
    "print(\"State space: \", env.observation_space)\n",
    "print(\"Action space: \", env.action_space)"
   ]
  },
  {
   "cell_type": "markdown",
   "metadata": {},
   "source": [
    "This tells us that the state space represents a 2-dimensional box, so each state observation is a vector of 2 (float) values, and that the action space comprises three discrete actions.\n",
    "\n",
    "By default, the three actions are represented by the integers 0, 1 and 2. However, we don’t know what values the elements of the state vector can take. This can be found using:"
   ]
  },
  {
   "cell_type": "code",
   "execution_count": 7,
   "metadata": {},
   "outputs": [
    {
     "name": "stdout",
     "output_type": "stream",
     "text": [
      "min car position and velocity:  [-1.2  -0.07]\n",
      "max car position and velocity:  [0.6  0.07]\n"
     ]
    }
   ],
   "source": [
    "print(\"min car position and velocity: \", env.observation_space.low)\n",
    "print(\"max car position and velocity: \", env.observation_space.high)"
   ]
  },
  {
   "cell_type": "markdown",
   "metadata": {},
   "source": [
    "From this, we can see that the first element of the state vector (representing the cart’s position) can take on any value in the range -1.2 to 0.6, while the second element (representing the cart’s velocity) can take on any value in the range -0.07 to 0.07."
   ]
  },
  {
   "cell_type": "markdown",
   "metadata": {},
   "source": [
    "The class Model encapsulate the function that update the weights:\n",
    "\n",
    "$w_{t+1}=w_t+\\frac{\\alpha}{t}(G - \\hat V)$ "
   ]
  },
  {
   "cell_type": "code",
   "execution_count": 8,
   "metadata": {},
   "outputs": [],
   "source": [
    "class Model(object):\n",
    "    def __init__(self, alpha, stateSpace):\n",
    "        self.ALPHA = alpha\n",
    "        self.weights = {}\n",
    "        self.stateSpace = stateSpace\n",
    "        for state in stateSpace:\n",
    "            self.weights[state] = 0\n",
    "    # return the component weight for that particular state\n",
    "    def calculateV(self, state):\n",
    "        v = self.weights[state]\n",
    "        return v\n",
    "    # MC update\n",
    "    # to decrease alpha value we are multiplining in this case for 1/t\n",
    "    # to update the weights we pass the agent's estimate of the value function, G and the state\n",
    "    # The value of that state is just the weight, since we are using state aggregation\n",
    "    # increment the weights by alpha times G minus value\n",
    "    def updateWeights(self, G, state, t):\n",
    "        value = self.calculateV(state)\n",
    "        self.weights[state] += self.ALPHA/t*(G - value)"
   ]
  },
  {
   "cell_type": "code",
   "execution_count": 9,
   "metadata": {},
   "outputs": [],
   "source": [
    "# Just put continuous values into bins to have discrete values\n",
    "# the weight has one component for each bucket and the value of the state is that component\n",
    "# the gradient of the value function approx is one for the groups component and zero for the others\n",
    "# returns in which bin are pos and vel (state)\n",
    "def aggregateState(posBins, velBins, obs):\n",
    "    pos = int(np.digitize(obs[0], posBins))\n",
    "    vel = int(np.digitize(obs[1], velBins))\n",
    "    state = (pos, vel)\n",
    "    return state"
   ]
  },
  {
   "cell_type": "code",
   "execution_count": 10,
   "metadata": {},
   "outputs": [],
   "source": [
    "# apply the policy, depending on the velocity signal (bin 4 is the threshold between positive and negative)\n",
    "# keep increasing the direction of movement \n",
    "# receives the velocity. If the velocity is positive, the agent pushes to the right and vice-versa\n",
    "def policy(vel):\n",
    "    #_, velocity = state\n",
    "    # 0 - backward, 1 - none, 2 - forward\n",
    "    if vel < 4: \n",
    "        return 0\n",
    "    elif vel >= 4: \n",
    "        return 2"
   ]
  },
  {
   "cell_type": "code",
   "execution_count": 11,
   "metadata": {
    "scrolled": false
   },
   "outputs": [
    {
     "name": "stderr",
     "output_type": "stream",
     "text": [
      "/home/ec2-user/anaconda3/envs/amazonei_tensorflow_p36/lib/python3.6/site-packages/gym/logger.py:30: UserWarning: \u001b[33mWARN: Box bound precision lowered by casting to float32\u001b[0m\n",
      "  warnings.warn(colorize('%s: %s'%('WARN', msg % args), 'yellow'))\n"
     ]
    },
    {
     "name": "stdout",
     "output_type": "stream",
     "text": [
      "For alpha: 0.1\n",
      "episode: 0\n",
      "episode: 1000\n",
      "episode: 2000\n",
      "episode: 3000\n",
      "episode: 4000\n",
      "episode: 5000\n",
      "episode: 6000\n",
      "episode: 7000\n",
      "episode: 8000\n",
      "episode: 9000\n",
      "episode: 10000\n",
      "episode: 11000\n",
      "episode: 12000\n",
      "episode: 13000\n",
      "episode: 14000\n",
      "episode: 15000\n",
      "episode: 16000\n",
      "episode: 17000\n",
      "episode: 18000\n",
      "episode: 19000\n",
      "For alpha: 0.01\n",
      "episode: 0\n",
      "episode: 1000\n",
      "episode: 2000\n",
      "episode: 3000\n",
      "episode: 4000\n",
      "episode: 5000\n",
      "episode: 6000\n",
      "episode: 7000\n",
      "episode: 8000\n",
      "episode: 9000\n",
      "episode: 10000\n",
      "episode: 11000\n",
      "episode: 12000\n",
      "episode: 13000\n",
      "episode: 14000\n",
      "episode: 15000\n",
      "episode: 16000\n",
      "episode: 17000\n",
      "episode: 18000\n",
      "episode: 19000\n",
      "For alpha: 0.001\n",
      "episode: 0\n",
      "episode: 1000\n",
      "episode: 2000\n",
      "episode: 3000\n",
      "episode: 4000\n",
      "episode: 5000\n",
      "episode: 6000\n",
      "episode: 7000\n",
      "episode: 8000\n",
      "episode: 9000\n",
      "episode: 10000\n",
      "episode: 11000\n",
      "episode: 12000\n",
      "episode: 13000\n",
      "episode: 14000\n",
      "episode: 15000\n",
      "episode: 16000\n",
      "episode: 17000\n",
      "episode: 18000\n",
      "episode: 19000\n"
     ]
    },
    {
     "data": {
      "image/png": "[encoded data removed]",
      "text/plain": [
       "<Figure size 720x1080 with 2 Axes>"
      ]
     },
     "metadata": {},
     "output_type": "display_data"
    },
    {
     "name": "stdout",
     "output_type": "stream",
     "text": [
      "CPU times: user 11min 27s, sys: 4.38 s, total: 11min 31s\n",
      "Wall time: 11min 18s\n"
     ]
    }
   ],
   "source": [
    "%%time\n",
    "if __name__ == '__main__':\n",
    "    # set the gamma\n",
    "    GAMMA = 1.0\n",
    "    # make the environment\n",
    "    env = gym.make('MountainCar-v0') \n",
    "    # set up the bins, breaking pos and vel in 8 separated bins for each\n",
    "    posBins = np.linspace(-1.2, 0.5, 8)\n",
    "    velBins = np.linspace(-0.07, 0.07, 8)\n",
    "    \n",
    "    # list of tuples with possible combinations of buckets for an observation\n",
    "    stateSpace = []\n",
    "    for i in range(1,9):\n",
    "        for j in range(1,9):\n",
    "            stateSpace.append((i,j))\n",
    "    # number of games\n",
    "    numEpisodes = 20000\n",
    "    # keep track of the value function estimates at the near exit point at the left side of the track\n",
    "    # to plot this we use a list of x values, wchich is just zero to the number of games divided by 1000 - 1\n",
    "    # the dimention of 3 will help plot for three different alpha value \n",
    "    nearExit = np.zeros((3, int(numEpisodes/1000)))\n",
    "    leftSide = np.zeros((3, int(numEpisodes/1000)))\n",
    "    x = [i for i in range(nearExit.shape[1])]\n",
    "    # loop through 3 learning rates\n",
    "    # hyperparametar tunning: part of the art of Rl!!!\n",
    "    for k, LR in enumerate([0.1, 0.01, 0.001]):\n",
    "        print(\"For alpha: {}\".format(LR))\n",
    "        dt = 1.0\n",
    "        # initialize a new model for each learning rate\n",
    "        model = Model(LR, stateSpace)        \n",
    "        for i in range(numEpisodes):\n",
    "            \n",
    "            # update the nearExit and leftSide arrays each 1000 games\n",
    "            if i % 1000 == 0:\n",
    "                \n",
    "                print(\"episode: {}\".format(i))\n",
    "                #print(\"episode memory: {}\".format(memory))\n",
    "                #print(\"statesReturns: {}\".format(statesReturns))\n",
    "                \n",
    "                idx = i // 1000\n",
    "                #print('posBins', posBins)\n",
    "                #print('velBins', velBins)\n",
    "                state = aggregateState(posBins, velBins, (0.43, 0.054))\n",
    "                #print(\"state near exit: {}\".format(state))\n",
    "                nearExit[k][idx] = model.calculateV(state)\n",
    "                #print(\"nearExit[k][idx]: {}\".format(nearExit[k][idx]))\n",
    "                state = aggregateState(posBins, velBins, (-1.1, 0.001))\n",
    "                #print(\"state left: {}\".format(state))\n",
    "                leftSide[k][idx] = model.calculateV(state) \n",
    "                #print(\"leftSide[k][idx]: {}\".format(leftSide[k][idx]))\n",
    "                # increment the divisor of the learning rate\n",
    "                # just a small 0.1 increment every 1000 games gives us a fair convergence\n",
    "                dt += 0.1\n",
    "            # reset the environment, done flag and memory at the top of each episode\n",
    "            observation = env.reset()\n",
    "            done = False\n",
    "            # memory of the rewards to the terminal State\n",
    "            memory = [] \n",
    "            # play the episode according to the policy\n",
    "            # append a terminal state at the end of the episode\n",
    "            while not done:\n",
    "                state = aggregateState(posBins, velBins, observation)\n",
    "                action = policy(state[1])\n",
    "                observation_, reward, done, _ = env.step(action)           \n",
    "                memory.append((state, action, reward))\n",
    "                #print(\"memory: {}\".format(memory))\n",
    "                observation = observation_ \n",
    "            state = aggregateState(posBins, velBins, observation)\n",
    "            memory.append((state, action, reward))\n",
    "            \n",
    "            # do the calculations of the returns at each time step by iterating backwards\n",
    "            # over the memory, skipping the terminal state\n",
    "            G = 0\n",
    "            last = True\n",
    "            statesReturns = [] \n",
    "            # use the memory vector to calulate the return function (sum of rewards from initial state to the end)\n",
    "            for state, action, reward in reversed(memory):\n",
    "                if last:\n",
    "                    last = False\n",
    "                else:\n",
    "                    statesReturns.append((state, G))\n",
    "                G = GAMMA*G + reward\n",
    "            # reverse this list of states and return to put it into the chronological order, and\n",
    "            # keep track of the returns that follow the agent's first visit to that state\n",
    "            statesReturns.reverse()\n",
    "            statesVisited = []\n",
    "            for state, G in statesReturns:  \n",
    "                # updates the model weights if it is the firt visit to that state\n",
    "                if state not in statesVisited:\n",
    "                    model.updateWeights(G, state, dt)\n",
    "                    statesVisited.append(state)\n",
    "    # when we reach the finish of the game, plotthe nearExit and leftSide arrays for each leraning rate\n",
    "    plt.figure(figsize=(10, 15))\n",
    "    plt.subplot(221)\n",
    "    plt.plot(x, nearExit[0], 'r--')\n",
    "    plt.plot(x, nearExit[1], 'g--')\n",
    "    plt.plot(x, nearExit[2], 'b--')\n",
    "    plt.title('Estimated State Value - near exit, moving right')\n",
    "    plt.subplot(222)    \n",
    "    plt.plot(x, leftSide[0], 'r--')\n",
    "    plt.plot(x, leftSide[1], 'g--')\n",
    "    plt.plot(x, leftSide[2], 'b--')\n",
    "    plt.title('Estimated State Value - left side, moving right')\n",
    "    plt.legend(('alpha = 0.1', 'alpha = 0.01', 'alpha = 0.001'))\n",
    "    plt.show()"
   ]
  },
  {
   "cell_type": "markdown",
   "metadata": {},
   "source": [
    "### Conclusions\n",
    "#### State nearest to the exit and moving right\n",
    "The alpha of 0.001 produces the most reasonable estimate.\n",
    "It is between -1 and -2 and the true values is two moves to the exit.\n",
    "The other two alphas both converge on the wrong answers on either side of it.\n",
    "### State in Left side , moving right\n",
    "All three alphas values converges to the answer -40, which is actually really close to the value of 39 steps required to reach the exit, starting from the left side of the small positive velocity.\n",
    "Note the difference in the slope between the three different values of alpha:\n",
    "For 0.1 and 0.01 converge almost instantly to the correct answer, while alpha 0.001 takes logner to get there.\n",
    "## This highliths the importance of hyper parametar tunning in RL!!!\n",
    "#### Rule of thumb\n",
    "Start with some value and run up and down by 1 order of magnitude (in powers of 10) "
   ]
  },
  {
   "cell_type": "markdown",
   "metadata": {},
   "source": [
    "<div class=\"lev1\">\n",
    "    <a href=\"#Lecture-3-Supporting-Notebook\"><span class=\"toc-item-num\"></span>\n",
    "        TOP\n",
    "    </a>"
   ]
  },
  {
   "cell_type": "markdown",
   "metadata": {},
   "source": [
    "![MLU Logo](https://drive.corp.amazon.com/view/bwernes@/MLU_Logo.png?download=true)"
   ]
  },
  {
   "cell_type": "markdown",
   "metadata": {},
   "source": [
    "# Multiple Tiles for Multiple Features"
   ]
  },
  {
   "cell_type": "code",
   "execution_count": 12,
   "metadata": {},
   "outputs": [
    {
     "ename": "NameError",
     "evalue": "name 'create_tiling' is not defined",
     "output_type": "error",
     "traceback": [
      "\u001b[0;31m---------------------------------------------------------------------------\u001b[0m",
      "\u001b[0;31mNameError\u001b[0m                                 Traceback (most recent call last)",
      "\u001b[0;32m<ipython-input-12-692d807fe42f>\u001b[0m in \u001b[0;36m<module>\u001b[0;34m()\u001b[0m\n\u001b[1;32m     31\u001b[0m \u001b[0;31m#offsets= [[0,0],[0.5,1.5],[1.,3.],[1.5,4.5],[2.,6.],[2.5,7.5],[3.,9.],[3.5,10.5]]\u001b[0m\u001b[0;34m\u001b[0m\u001b[0;34m\u001b[0m\u001b[0m\n\u001b[1;32m     32\u001b[0m \u001b[0;34m\u001b[0m\u001b[0m\n\u001b[0;32m---> 33\u001b[0;31m \u001b[0mtilings\u001b[0m \u001b[0;34m=\u001b[0m \u001b[0mcreate_tilings\u001b[0m\u001b[0;34m(\u001b[0m\u001b[0mfeature_ranges\u001b[0m\u001b[0;34m,\u001b[0m \u001b[0mnumber_tilings\u001b[0m\u001b[0;34m,\u001b[0m \u001b[0mbins\u001b[0m\u001b[0;34m,\u001b[0m \u001b[0moffsets\u001b[0m\u001b[0;34m)\u001b[0m\u001b[0;34m\u001b[0m\u001b[0m\n\u001b[0m\u001b[1;32m     34\u001b[0m \u001b[0;34m\u001b[0m\u001b[0m\n\u001b[1;32m     35\u001b[0m \u001b[0mprint\u001b[0m\u001b[0;34m(\u001b[0m\u001b[0mtilings\u001b[0m\u001b[0;34m.\u001b[0m\u001b[0mshape\u001b[0m\u001b[0;34m)\u001b[0m  \u001b[0;31m# # of tilings X features X bins\u001b[0m\u001b[0;34m\u001b[0m\u001b[0m\n",
      "\u001b[0;32m<ipython-input-12-692d807fe42f>\u001b[0m in \u001b[0;36mcreate_tilings\u001b[0;34m(feature_ranges, number_tilings, bins, offsets)\u001b[0m\n\u001b[1;32m     17\u001b[0m                 \u001b[0mfeat_range\u001b[0m \u001b[0;34m=\u001b[0m \u001b[0mfeature_ranges\u001b[0m\u001b[0;34m[\u001b[0m\u001b[0mfeat_i\u001b[0m\u001b[0;34m]\u001b[0m\u001b[0;34m\u001b[0m\u001b[0m\n\u001b[1;32m     18\u001b[0m                 \u001b[0;31m# tiling for 1 feature\u001b[0m\u001b[0;34m\u001b[0m\u001b[0;34m\u001b[0m\u001b[0m\n\u001b[0;32m---> 19\u001b[0;31m                 \u001b[0mfeat_tiling\u001b[0m \u001b[0;34m=\u001b[0m \u001b[0mcreate_tiling\u001b[0m\u001b[0;34m(\u001b[0m\u001b[0mfeat_range\u001b[0m\u001b[0;34m,\u001b[0m \u001b[0mtiling_bin\u001b[0m\u001b[0;34m[\u001b[0m\u001b[0mfeat_i\u001b[0m\u001b[0;34m]\u001b[0m\u001b[0;34m,\u001b[0m \u001b[0mtiling_offset\u001b[0m\u001b[0;34m[\u001b[0m\u001b[0mfeat_i\u001b[0m\u001b[0;34m]\u001b[0m\u001b[0;34m)\u001b[0m\u001b[0;34m\u001b[0m\u001b[0m\n\u001b[0m\u001b[1;32m     20\u001b[0m                 \u001b[0mtiling\u001b[0m\u001b[0;34m.\u001b[0m\u001b[0mappend\u001b[0m\u001b[0;34m(\u001b[0m\u001b[0mfeat_tiling\u001b[0m\u001b[0;34m)\u001b[0m\u001b[0;34m\u001b[0m\u001b[0m\n\u001b[1;32m     21\u001b[0m             \u001b[0mtilings\u001b[0m\u001b[0;34m.\u001b[0m\u001b[0mappend\u001b[0m\u001b[0;34m(\u001b[0m\u001b[0mtiling\u001b[0m\u001b[0;34m)\u001b[0m\u001b[0;34m\u001b[0m\u001b[0m\n",
      "\u001b[0;31mNameError\u001b[0m: name 'create_tiling' is not defined"
     ]
    }
   ],
   "source": [
    "def create_tilings(feature_ranges, number_tilings, bins, offsets):\n",
    "        \"\"\"\n",
    "        feature_ranges: range of each feature; example: x: [-1, 1], y: [2, 5] -> [[-1, 1], [2, 5]]\n",
    "        number_tilings: number of tilings; example: 3 tilings\n",
    "        bins: bin size for each tiling and dimension; example: [[10, 10], [10, 10], [10, 10]]: 3 tilings * [x_bin, y_bin]\n",
    "        offsets: offset for each tiling and dimension; example: [[0, 0], [0.2, 1], [0.4, 1.5]]: 3 tilings * [x_offset, y_offset]\n",
    "        \"\"\"\n",
    "        tilings = []\n",
    "        # for each tiling\n",
    "        for tile_i in range(number_tilings):\n",
    "            tiling_bin = bins[tile_i]\n",
    "            tiling_offset = offsets[tile_i]\n",
    "\n",
    "            tiling = []\n",
    "            # for each feature dimension\n",
    "            for feat_i in range(len(feature_ranges)):\n",
    "                feat_range = feature_ranges[feat_i]\n",
    "                # tiling for 1 feature\n",
    "                feat_tiling = create_tiling(feat_range, tiling_bin[feat_i], tiling_offset[feat_i])\n",
    "                tiling.append(feat_tiling)\n",
    "            tilings.append(tiling)\n",
    "        return np.array(tilings)\n",
    "    \n",
    "feature_ranges = [[-1, 1], [2, 5]]  # 2 features\n",
    "number_tilings = 3\n",
    "bins = [[10, 10], [10, 10], [10, 10]]  # each tiling has a 10*10 grid\n",
    "offsets = [[0, 0], [0.2, 1], [0.4, 1.5]]\n",
    "#feature_range=[[-1.2, 0.6],[-0.07, 0.07]]\n",
    "#number_tilings= 8\n",
    "#bins= [[8,8],[8,8],[8,8],[8,8],[8,8],[8,8],[8,8],[8,8]]\n",
    "#offsets= [[0,0],[0.5,1.5],[1.,3.],[1.5,4.5],[2.,6.],[2.5,7.5],[3.,9.],[3.5,10.5]]\n",
    "\n",
    "tilings = create_tilings(feature_ranges, number_tilings, bins, offsets)\n",
    "\n",
    "print(tilings.shape)  # # of tilings X features X bins\n",
    "\n",
    "# (3, 2, 9)"
   ]
  },
  {
   "cell_type": "code",
   "execution_count": null,
   "metadata": {},
   "outputs": [],
   "source": [
    "def get_tile_coding(feature, tilings):\n",
    "        \"\"\"\n",
    "        feature: sample feature with multiple dimensions that need to be encoded; example: [0.1, 2.5], [-0.3, 2.0]\n",
    "        tilings: tilings with a few layers\n",
    "        return: the encoding for the feature on each layer\n",
    "        \"\"\"\n",
    "        num_dims = len(feature)\n",
    "        feat_codings = []\n",
    "        for tiling in tilings:\n",
    "            feat_coding = []\n",
    "            for i in range(num_dims):\n",
    "                feat_i = feature[i]\n",
    "                tiling_i = tiling[i]  # tiling on that dimension\n",
    "                coding_i = np.digitize(feat_i, tiling_i)\n",
    "                feat_coding.append(coding_i)\n",
    "            feat_codings.append(feat_coding)\n",
    "        return np.array(feat_codings)\n",
    "        \n",
    "feature = [0.1, 4.0]\n",
    "\n",
    "coding = get_tile_coding(feature, tilings)\n",
    "coding"
   ]
  },
  {
   "cell_type": "markdown",
   "metadata": {},
   "source": [
    "<div class=\"lev1\">\n",
    "    <a href=\"#Lecture-3-Supporting-Notebook\"><span class=\"toc-item-num\"></span>\n",
    "        TOP\n",
    "    </a>"
   ]
  },
  {
   "cell_type": "markdown",
   "metadata": {},
   "source": [
    "![MLU Logo](https://drive.corp.amazon.com/view/bwernes@/MLU_Logo.png?download=true)"
   ]
  },
  {
   "cell_type": "markdown",
   "metadata": {},
   "source": [
    "# TD(0) Approximator"
   ]
  },
  {
   "cell_type": "code",
   "execution_count": null,
   "metadata": {},
   "outputs": [],
   "source": [
    "# pass the number of layers and bins\n",
    "def getBins(nBins=8, nLayers=8):\n",
    "    # construct the asymmetric bins\n",
    "    posTileWidth = (0.5 + 1.2)/nBins*0.5\n",
    "    velTileWidth = (0.07 + 0.07)/nBins*0.5\n",
    "    posBins = np.zeros((nLayers,nBins))\n",
    "    velBins = np.zeros((nLayers,nBins))\n",
    "    for i in range(nLayers):\n",
    "        posBins[i] = np.linspace(-1.2+i*posTileWidth, 0.5+i*posTileWidth/2, nBins)\n",
    "        velBins[i] = np.linspace(-0.07+3*i*velTileWidth, 0.07+3*i*posTileWidth/2, nBins)    \n",
    "    return posBins, velBins    "
   ]
  },
  {
   "cell_type": "code",
   "execution_count": null,
   "metadata": {},
   "outputs": [],
   "source": [
    "# pass the number of layers and bins\n",
    "def tileState(posBins, velBins,  obs, nTiles=8, nLayers=8):\n",
    "    position, velocity = obs\n",
    "    # 8 tilings of 8x8 grid   \n",
    "    tiledState = np.zeros(nTiles*nTiles*nTiles)\n",
    "    for row in range(nLayers):\n",
    "        if position > posBins[row][0] and position < posBins[row][nTiles-1]:\n",
    "            if velocity > velBins[row][0] and velocity < velBins[row][nTiles-1]:\n",
    "                x = np.digitize(position, posBins[row])\n",
    "                y = np.digitize(velocity, velBins[row])                \n",
    "                idx = (x+1)*(y+1)+row*nTiles**2-1\n",
    "                tiledState[idx] = 1.0\n",
    "            else:\n",
    "                break\n",
    "        else:\n",
    "            break            \n",
    "    return tiledState"
   ]
  },
  {
   "cell_type": "code",
   "execution_count": null,
   "metadata": {},
   "outputs": [],
   "source": [
    "class Model(object):\n",
    "    # get this inputs and initialize a empty array of weights with the size of \n",
    "    # the number of states\n",
    "    def __init__(self, alpha, gamma, nStates):\n",
    "        self.ALPHA = alpha\n",
    "        self.GAMMA = gamma\n",
    "        self.weights = np.zeros(nStates)\n",
    "    # the value of a particular state is a vector dot product of weigths\n",
    "    # in the binary representation of the states\n",
    "    def calculateV(self, state):     \n",
    "        v = self.weights.dot(state)\n",
    "        return v\n",
    "    # to update the weights, we need the value of the current state at time t\n",
    "    # and the state at time t+1\n",
    "    # we update the weights according to the update rule.\n",
    "    # the parameter t that dictates how much I decrease alpha ovet time.\n",
    "    # It starts one and increases as we play more games.\n",
    "    # Note that this is multiplying our array of weights by a binary representation of \n",
    "    # of the state, so we only update the weights for the state we are interested in\n",
    "    def updateWeights(self, R, state, state_, t):        \n",
    "        value = self.calculateV(state) \n",
    "        value_ = self.calculateV(state_)\n",
    "        self.weights += self.ALPHA/t*(R + self.GAMMA*value_ - value)*state"
   ]
  },
  {
   "cell_type": "code",
   "execution_count": null,
   "metadata": {},
   "outputs": [],
   "source": [
    "# this simple policy just takes the velocity as input.\n",
    "# It pushes in the direction of the movement\n",
    "def policy(velocity):\n",
    "    # 0 - backward, 1 - none, 2 - forward\n",
    "    if velocity < 0:\n",
    "        return 0\n",
    "    elif velocity >= 0:\n",
    "        return 2"
   ]
  },
  {
   "cell_type": "code",
   "execution_count": null,
   "metadata": {
    "scrolled": false
   },
   "outputs": [],
   "source": [
    "%%time\n",
    "if __name__ == '__main__':\n",
    "    # set gamma to 1.0, make the environment\n",
    "    GAMMA = 1.0\n",
    "    env = gym.make('MountainCar-v0')\n",
    "    # generate the bins, set the number of episodes\n",
    "    posBins, velBins = getBins()\n",
    "    numEpisodes = 20000\n",
    "    # initialize the arrays to keep track of the updates to the value function\n",
    "    # for our states of interest.\n",
    "    nearExit = np.zeros((3, int(numEpisodes/1000)))\n",
    "    leftSide = np.zeros((3, int(numEpisodes/1000)))\n",
    "    x = [i for i in range(nearExit.shape[1])]\n",
    "    # iterate over an enumerated list of learning rates\n",
    "    for k, ALPHA in enumerate([1e-1, 1e-2, 1e-3]):\n",
    "        # for each learning rate, initialize a new model with 8 cube states.\n",
    "        model = Model(ALPHA, GAMMA, 8*8*8)\n",
    "        # The dt is used to decrease the learning rate over time\n",
    "        # so it gets reset for each learning rate\n",
    "        dt = 1.0\n",
    "        # every 1000 games calculate the value of the nearExit and leftSide states,\n",
    "        # and printout a placeholder to the terminal\n",
    "        for i in range(numEpisodes):\n",
    "            sys.stdout.flush()\n",
    "            if i % 1000 == 0:\n",
    "                print('alpha', ALPHA, 'start episode', i)\n",
    "                idx = i // 1000\n",
    "                tiledState = tileState(posBins, velBins, (0.43, 0.054))\n",
    "                nearExit[k][idx] = model.calculateV(tiledState)        \n",
    "                tiledState = tileState(posBins, velBins, (-1.1, 0.001))\n",
    "                leftSide[k][idx] = model.calculateV(tiledState)\n",
    "            # increment dt by 10, so alpha gradually decreases over time\n",
    "            if i % 100 == 0:\n",
    "                dt += 10\n",
    "            # at the top of each episode, reset the environment and done flag\n",
    "            observation = env.reset()\n",
    "            done = False \n",
    "            # play the game according to the policy and call the\n",
    "            # update model function at each time step\n",
    "            while not done:\n",
    "                state = tileState(posBins, velBins, observation)\n",
    "                #print(\"state\", state)\n",
    "                action = policy(observation[1])\n",
    "                observation_, reward, done, _ = env.step(action)\n",
    "                #print(\"reward\", reward)\n",
    "                #total_reward.append(reward) #CASS\n",
    "                state_ = tileState(posBins, velBins, observation_)\n",
    "                #print(\"state_\", state_)\n",
    "                model.updateWeights(reward, state, state_, dt)\n",
    "                observation = observation_ \n",
    "    \n",
    "    # when finished, make two subplots the two state of interest side by side\n",
    "    plt.figure(figsize=(10, 15))\n",
    "    plt.subplot(221)\n",
    "    plt.plot(x, nearExit[0], 'r--')\n",
    "    plt.plot(x, nearExit[1], 'g--')\n",
    "    plt.plot(x, nearExit[2], 'b--')\n",
    "    plt.title('near exit, moving right')\n",
    "    plt.subplot(222)    \n",
    "    plt.plot(x, leftSide[0], 'r--')\n",
    "    plt.plot(x, leftSide[1], 'g--')\n",
    "    plt.plot(x, leftSide[2], 'b--')\n",
    "    plt.title('left side, moving right')\n",
    "    plt.legend(('alpha = 1e-1', 'alpha = 1e-2', 'alpha = 1e-3'))\n",
    "    plt.show()    "
   ]
  },
  {
   "cell_type": "markdown",
   "metadata": {},
   "source": [
    "### Conclusions\n",
    "+ For the near exit moving right, we should get something close to -2.\n",
    "+ For the left side moving right, we should get aroung -39.\n",
    "\n",
    "#### State nearest to the exit and moving right\n",
    "The alpha of 0.001 produces the pretty bad estimates.\n",
    "It produces the non-physical result of approximately zero for the left side car. We shouldn't use that value.\n",
    "The alpha of 0.01 starts to move in the right direction. for the near-exit state, it actually starts to approach the true value of -2, but for the left side it seems to have stabilized at a value of about -5, which is again non-physical.\n",
    "The best seems to be alpha 0.1, that has an estimate of approximately -0.3 for the near exit and about -29 for the left side.\n",
    "\n",
    "#### Why so different from the Monte Carlo approximation?\n",
    "This is because the DT methods don't converge to the global minima. \n",
    "\n",
    "They find some other local minima nearby."
   ]
  },
  {
   "cell_type": "markdown",
   "metadata": {},
   "source": [
    "![MLU Logo](https://drive.corp.amazon.com/view/bwernes@/MLU_Logo.png?download=true)"
   ]
  },
  {
   "cell_type": "code",
   "execution_count": null,
   "metadata": {},
   "outputs": [],
   "source": []
  }
 ],
 "metadata": {
  "kernelspec": {
   "display_name": "Python 3",
   "language": "python",
   "name": "python3"
  },
  "language_info": {
   "codemirror_mode": {
    "name": "ipython",
    "version": 3
   },
   "file_extension": ".py",
   "mimetype": "text/x-python",
   "name": "python",
   "nbconvert_exporter": "python",
   "pygments_lexer": "ipython3",
   "version": "3.7.6"
  }
 },
 "nbformat": 4,
 "nbformat_minor": 4
}
