{
 "cells": [
  {
   "cell_type": "markdown",
   "metadata": {},
   "source": [
    "![MLU Logo](https://drive.corp.amazon.com/view/bwernes@/MLU_Logo.png?download=true)"
   ]
  },
  {
   "cell_type": "markdown",
   "metadata": {},
   "source": [
    "# RL1 Final Project\n",
    "## Introduction\n",
    "Welcome to the RL final project! We'll explore two different RL methods worked during our course:\n",
    "+ Dynamic Programming (DP)\n",
    "+ Monte Carlo (MC)\n",
    "A simulated real problem related to the placement of Ads on a website will be used to implement these solutions. \n",
    "\n",
    "## The Context\n",
    "### Predicting Ads Positioning \n",
    "Placement of ads on website is the primary problem for companies that operate on ad revenue. The position where the ad is placed plays pivotal role on whether or not the ad will be clicked. Here we have the following choices:\n",
    "+ Place them randomly, or Place the ad on the same position\n",
    "\n",
    "The problem with placing the ad on the same position is the user, after a certain time, will start ignoring the space since he's used to seeing ad at the place, he will end up ignoring that particular position hereafter. Hence, this will reduce the number of clicks on ads. <br/>\n",
    "\n",
    "The problem with placing them randomly is that it wouldn't take optimal positions into consideration. <br/>\n",
    "For instance, text beside images are viewed higher number of times than those text which are placed at a distance. It is infeasible to go through every website and repeat the procedure.\n",
    "\n",
    "## Approach\n",
    "### Reinforcement Learning\n",
    "\n",
    "Using Reinforcement Learning we can approximate the human behavior.\n",
    "\n",
    "## Data\n",
    "We will use a dataset from Kaggle: ads-ctr-optimisation. <br/>\n",
    "It is already in our S3 datalake and the code to access we give you below.\n",
    "## The Project\n",
    "Your team will solve this problem using two algorithms you have learned during this course:\n",
    "+ __Dynamic Programming (DP)__\n",
    "+ __Monte Carlo with $\\epsilon-greedy$(MC)__\n",
    "\n",
    "At the end you can compare the results.\n",
    "\n",
    "## The Business Problem\n",
    "> We can present a particular Ads in different positions related to 10 different advertisiments on our webpage.\n",
    "\n",
    "> People visit the webpage and can select on one or more advertisiments, or not select anything at all.\n",
    "\n",
    "We need to find the position where the Ads is more likely to be selected, so we can present to our customers that advertise in our webpages different proces. \n",
    "\n",
    "__NOTE:__ although more than one position can be selected in one visit, we are considering them unrelated events for this problem. In other words, each selection is independent from other possible selections on the webpage in this visit.\n",
    "\n",
    "We don't have any information about the particular visitors and we are assuming that the visitors are representative of the regular community that visits regularly our website. <br/>\n",
    "\n",
    "Our reinforced learning agent will learn, from the selection behaviour of people visiting our website, the best positions (more selected ones) in our Ads.\n",
    "\n",
    "## Resources\n",
    "I've always found experience the best teacher, so I advocate just diving in and trying to implement things.  However, it is always good to have other sources to reference, so every week I'll place links to things that I think are helpful to learn the material.\n",
    "* [this book](http://incompleteideas.net/book/bookdraft2018jan1.pdf) about the concepts worked here."
   ]
  },
  {
   "cell_type": "code",
   "execution_count": 1,
   "metadata": {},
   "outputs": [],
   "source": [
    "# import routines\n",
    "import numpy as np\n",
    "import pandas as pd\n",
    "import matplotlib.pyplot as plt\n",
    "import random\n",
    "import boto3\n",
    "from os import path\n",
    "\n",
    "plt.rcParams[\"figure.figsize\"] = (10, 5)"
   ]
  },
  {
   "cell_type": "markdown",
   "metadata": {},
   "source": [
    "### RL Environment\n",
    "\n",
    "> __Environment:__ a matrix (or dataframe) containing 10 Ads position per row having values either 1, when the ad is clicked, or 0 when it is not, taken from 10,000 visits to our website. \n",
    "\n",
    "> __State:__ each row showing the positions for Ads that have been selected in a particular visit to our webpage.\n",
    "\n",
    "> __Rewards:__ 1, when Ads is clicked, 0 when it is not. Each cell of our environment is a reward.\n"
   ]
  },
  {
   "cell_type": "markdown",
   "metadata": {},
   "source": [
    "### Importing our dataset (environment)"
   ]
  },
  {
   "cell_type": "code",
   "execution_count": 3,
   "metadata": {},
   "outputs": [
    {
     "data": {
      "text/html": [
       "<div>\n",
       "<style scoped>\n",
       "    .dataframe tbody tr th:only-of-type {\n",
       "        vertical-align: middle;\n",
       "    }\n",
       "\n",
       "    .dataframe tbody tr th {\n",
       "        vertical-align: top;\n",
       "    }\n",
       "\n",
       "    .dataframe thead th {\n",
       "        text-align: right;\n",
       "    }\n",
       "</style>\n",
       "<table border=\"1\" class=\"dataframe\">\n",
       "  <thead>\n",
       "    <tr style=\"text-align: right;\">\n",
       "      <th></th>\n",
       "      <th>Ad 1</th>\n",
       "      <th>Ad 2</th>\n",
       "      <th>Ad 3</th>\n",
       "      <th>Ad 4</th>\n",
       "      <th>Ad 5</th>\n",
       "      <th>Ad 6</th>\n",
       "      <th>Ad 7</th>\n",
       "      <th>Ad 8</th>\n",
       "      <th>Ad 9</th>\n",
       "      <th>Ad 10</th>\n",
       "    </tr>\n",
       "  </thead>\n",
       "  <tbody>\n",
       "    <tr>\n",
       "      <td>0</td>\n",
       "      <td>1</td>\n",
       "      <td>0</td>\n",
       "      <td>0</td>\n",
       "      <td>0</td>\n",
       "      <td>1</td>\n",
       "      <td>0</td>\n",
       "      <td>0</td>\n",
       "      <td>0</td>\n",
       "      <td>1</td>\n",
       "      <td>0</td>\n",
       "    </tr>\n",
       "    <tr>\n",
       "      <td>1</td>\n",
       "      <td>0</td>\n",
       "      <td>0</td>\n",
       "      <td>0</td>\n",
       "      <td>0</td>\n",
       "      <td>0</td>\n",
       "      <td>0</td>\n",
       "      <td>0</td>\n",
       "      <td>0</td>\n",
       "      <td>1</td>\n",
       "      <td>0</td>\n",
       "    </tr>\n",
       "    <tr>\n",
       "      <td>2</td>\n",
       "      <td>0</td>\n",
       "      <td>0</td>\n",
       "      <td>0</td>\n",
       "      <td>0</td>\n",
       "      <td>0</td>\n",
       "      <td>0</td>\n",
       "      <td>0</td>\n",
       "      <td>0</td>\n",
       "      <td>0</td>\n",
       "      <td>0</td>\n",
       "    </tr>\n",
       "    <tr>\n",
       "      <td>3</td>\n",
       "      <td>0</td>\n",
       "      <td>1</td>\n",
       "      <td>0</td>\n",
       "      <td>0</td>\n",
       "      <td>0</td>\n",
       "      <td>0</td>\n",
       "      <td>0</td>\n",
       "      <td>1</td>\n",
       "      <td>0</td>\n",
       "      <td>0</td>\n",
       "    </tr>\n",
       "    <tr>\n",
       "      <td>4</td>\n",
       "      <td>0</td>\n",
       "      <td>0</td>\n",
       "      <td>0</td>\n",
       "      <td>0</td>\n",
       "      <td>0</td>\n",
       "      <td>0</td>\n",
       "      <td>0</td>\n",
       "      <td>0</td>\n",
       "      <td>0</td>\n",
       "      <td>0</td>\n",
       "    </tr>\n",
       "  </tbody>\n",
       "</table>\n",
       "</div>"
      ],
      "text/plain": [
       "   Ad 1  Ad 2  Ad 3  Ad 4  Ad 5  Ad 6  Ad 7  Ad 8  Ad 9  Ad 10\n",
       "0     1     0     0     0     1     0     0     0     1      0\n",
       "1     0     0     0     0     0     0     0     0     1      0\n",
       "2     0     0     0     0     0     0     0     0     0      0\n",
       "3     0     1     0     0     0     0     0     1     0      0\n",
       "4     0     0     0     0     0     0     0     0     0      0"
      ]
     },
     "execution_count": 3,
     "metadata": {},
     "output_type": "execute_result"
    }
   ],
   "source": [
    "# import the datasets\n",
    "bucketname = 'mlu-courses-datalake' # replace with your bucket name\n",
    "filename2 = 'RL1/Ads_CTR_Optimisation.csv' # replace with your object key\n",
    "s3 = boto3.resource('s3')\n",
    "#if not path.exists(\"Ads_CTR_Optimisation.csv\"):\n",
    "#    s3.Bucket(bucketname).download_file(filename2, 'Ads_CTR_Optimisation.csv')\n",
    "    \n",
    "env = pd.read_csv('../data/Ads_CTR_Optimisation.csv')\n",
    "env.head()"
   ]
  },
  {
   "cell_type": "markdown",
   "metadata": {},
   "source": [
    "## Positions with the Best Returns\n",
    "Another question we might ask, is to display the ad where it is clicked the most number of times. <br/>\n",
    "\n",
    "For instance, there might be a certain position where the ad is selected with a higher probability. <br/>\n",
    "Since the values of the rows is either 1 or 0, we can sum across the columns and count the number of times ad in the position was clicked.\n",
    "\n",
    "**This will be useful to compare the two approaches: MC and DP.**"
   ]
  },
  {
   "cell_type": "code",
   "execution_count": 4,
   "metadata": {},
   "outputs": [
    {
     "data": {
      "text/html": [
       "<div>\n",
       "<style scoped>\n",
       "    .dataframe tbody tr th:only-of-type {\n",
       "        vertical-align: middle;\n",
       "    }\n",
       "\n",
       "    .dataframe tbody tr th {\n",
       "        vertical-align: top;\n",
       "    }\n",
       "\n",
       "    .dataframe thead th {\n",
       "        text-align: right;\n",
       "    }\n",
       "</style>\n",
       "<table border=\"1\" class=\"dataframe\">\n",
       "  <thead>\n",
       "    <tr style=\"text-align: right;\">\n",
       "      <th></th>\n",
       "      <th>counts</th>\n",
       "    </tr>\n",
       "    <tr>\n",
       "      <th>ad</th>\n",
       "      <th></th>\n",
       "    </tr>\n",
       "  </thead>\n",
       "  <tbody>\n",
       "    <tr>\n",
       "      <td>1</td>\n",
       "      <td>1703</td>\n",
       "    </tr>\n",
       "    <tr>\n",
       "      <td>2</td>\n",
       "      <td>1295</td>\n",
       "    </tr>\n",
       "    <tr>\n",
       "      <td>3</td>\n",
       "      <td>728</td>\n",
       "    </tr>\n",
       "    <tr>\n",
       "      <td>4</td>\n",
       "      <td>1196</td>\n",
       "    </tr>\n",
       "    <tr>\n",
       "      <td>5</td>\n",
       "      <td>2695</td>\n",
       "    </tr>\n",
       "    <tr>\n",
       "      <td>6</td>\n",
       "      <td>126</td>\n",
       "    </tr>\n",
       "    <tr>\n",
       "      <td>7</td>\n",
       "      <td>1112</td>\n",
       "    </tr>\n",
       "    <tr>\n",
       "      <td>8</td>\n",
       "      <td>2091</td>\n",
       "    </tr>\n",
       "    <tr>\n",
       "      <td>9</td>\n",
       "      <td>952</td>\n",
       "    </tr>\n",
       "    <tr>\n",
       "      <td>10</td>\n",
       "      <td>489</td>\n",
       "    </tr>\n",
       "  </tbody>\n",
       "</table>\n",
       "</div>"
      ],
      "text/plain": [
       "    counts\n",
       "ad        \n",
       "1     1703\n",
       "2     1295\n",
       "3      728\n",
       "4     1196\n",
       "5     2695\n",
       "6      126\n",
       "7     1112\n",
       "8     2091\n",
       "9      952\n",
       "10     489"
      ]
     },
     "execution_count": 4,
     "metadata": {},
     "output_type": "execute_result"
    }
   ],
   "source": [
    "clicked_counts = env.values.sum(axis=0)\n",
    "best_counts = pd.DataFrame({\"ad\": np.arange(1, 11), \"counts\": clicked_counts})\n",
    "best_counts.set_index(\"ad\")"
   ]
  },
  {
   "cell_type": "code",
   "execution_count": 67,
   "metadata": {},
   "outputs": [
    {
     "data": {
      "image/png": "[encoded data removed]",
      "text/plain": [
       "<Figure size 432x288 with 1 Axes>"
      ]
     },
     "metadata": {
      "needs_background": "light"
     },
     "output_type": "display_data"
    },
    {
     "data": {
      "text/html": [
       "<div>\n",
       "<style scoped>\n",
       "    .dataframe tbody tr th:only-of-type {\n",
       "        vertical-align: middle;\n",
       "    }\n",
       "\n",
       "    .dataframe tbody tr th {\n",
       "        vertical-align: top;\n",
       "    }\n",
       "\n",
       "    .dataframe thead th {\n",
       "        text-align: right;\n",
       "    }\n",
       "</style>\n",
       "<table border=\"1\" class=\"dataframe\">\n",
       "  <thead>\n",
       "    <tr style=\"text-align: right;\">\n",
       "      <th></th>\n",
       "      <th>ad</th>\n",
       "      <th>counts</th>\n",
       "    </tr>\n",
       "  </thead>\n",
       "  <tbody>\n",
       "    <tr>\n",
       "      <td>4</td>\n",
       "      <td>5</td>\n",
       "      <td>2695</td>\n",
       "    </tr>\n",
       "    <tr>\n",
       "      <td>7</td>\n",
       "      <td>8</td>\n",
       "      <td>2091</td>\n",
       "    </tr>\n",
       "    <tr>\n",
       "      <td>0</td>\n",
       "      <td>1</td>\n",
       "      <td>1703</td>\n",
       "    </tr>\n",
       "    <tr>\n",
       "      <td>1</td>\n",
       "      <td>2</td>\n",
       "      <td>1295</td>\n",
       "    </tr>\n",
       "    <tr>\n",
       "      <td>3</td>\n",
       "      <td>4</td>\n",
       "      <td>1196</td>\n",
       "    </tr>\n",
       "  </tbody>\n",
       "</table>\n",
       "</div>"
      ],
      "text/plain": [
       "   ad  counts\n",
       "4   5    2695\n",
       "7   8    2091\n",
       "0   1    1703\n",
       "1   2    1295\n",
       "3   4    1196"
      ]
     },
     "execution_count": 67,
     "metadata": {},
     "output_type": "execute_result"
    }
   ],
   "source": [
    "plt.bar(best_counts['ad'], best_counts['counts'])\n",
    "plt.show()\n",
    "\n",
    "best_counts.sort_values('counts', ascending=False).head()"
   ]
  },
  {
   "cell_type": "markdown",
   "metadata": {},
   "source": [
    "This indicates ad 5 was seelcted 2695 times. So if we were to always place an ad on position 5, it would be click around 2695 times. \n",
    "\n",
    "### But you can we do better then that!"
   ]
  },
  {
   "cell_type": "markdown",
   "metadata": {},
   "source": [
    "# PART I\n",
    "## Dynamic Programming (Policy Iteration) \n",
    "Implement here a Dynamic Programming solution to learn from our environment.\n",
    "\n",
    "For your algorithm, consider:\n",
    "+ First, create a random policy reflecting a random choice between one, and only one, Ad for each state, for all 10,000 states.\n",
    "\n",
    "+ run a maximum of 1000 episodes, using this stop criterion of convergence: 1e-20 \n",
    "+ consider a $\\gamma=0.9$\n",
    "+ initialize the state-value function for all states with random values close to zero\n",
    "+ When running your episodes:\n",
    "    + For policy evaluation part:\n",
    "        + run until convergence or max episodes defined\n",
    "        + get the actions from your policy  \n",
    "    + For policy improvement part:\n",
    "        + Update your policy based on the state-value function\n",
    "        + Save the state-value changes, delta = $||V_{k-1} - V_k||$ for each step in a list\n",
    "\n",
    "> __1. Plot the delta against the episodes to show the convergence__\n",
    "\n",
    "> __2. Create a bar plot comparing the most chosen positions between the original Ads environment and the optimal policy learned.__\n",
    "\n",
    "> __3. Can you see if the learned policy follows the same pattern of selections for each Ads?__\n",
    "\n",
    "> __4. Compare the five top Ads selected from the original environment with the ones from the learned policy to see how many matches do you have.__"
   ]
  },
  {
   "cell_type": "code",
   "execution_count": 68,
   "metadata": {},
   "outputs": [
    {
     "data": {
      "image/png": "[encoded data removed]",
      "text/plain": [
       "<Figure size 432x288 with 1 Axes>"
      ]
     },
     "metadata": {
      "needs_background": "light"
     },
     "output_type": "display_data"
    },
    {
     "name": "stdout",
     "output_type": "stream",
     "text": [
      "CPU times: user 14min 31s, sys: 5.95 s, total: 14min 37s\n",
      "Wall time: 14min 42s\n"
     ]
    }
   ],
   "source": [
    "%%time\n",
    "import numpy as np\n",
    "import matplotlib.pyplot as plt\n",
    "\n",
    "num_states = env.shape[0]\n",
    "num_actions = env.shape[1]\n",
    "\n",
    "def return_policy_evaluation(p, u, gamma=0.9):\n",
    "    for s in range(num_states):\n",
    "        action = int(p[s])\n",
    "        col = env.columns[action]\n",
    "        reward = env[col][s]\n",
    "        u[s] = reward + gamma * u[s]\n",
    "    return u\n",
    "\n",
    "def return_expected_action(u, s, gamma=0.9):\n",
    "    actions_array = np.zeros(num_actions)\n",
    "    for action in range(num_actions):\n",
    "        col = env.columns[action]\n",
    "        reward = env[col][s]\n",
    "        actions_array[action] = reward + gamma * u[s]\n",
    "    return np.argmax(actions_array)\n",
    "\n",
    "\n",
    "def policy_iteration(gamma = 0.9, num_episodes = 1000, theta = 1e-20):    \n",
    "    # Utility vector\n",
    "    u = np.random.rand(num_states)\n",
    "    # First policy is random\n",
    "    p = np.random.randint(0, 10, size=(num_states)).astype(np.float32)\n",
    "    \n",
    "    iteration = 0\n",
    "    deltas = []\n",
    "    while True:\n",
    "        iteration += 1\n",
    "        #1- Policy evaluation\n",
    "        u1 = u.copy()\n",
    "        u = return_policy_evaluation(p, u, gamma)\n",
    "        \n",
    "        #Stopping criteria\n",
    "        delta = np.absolute(u - u1).max()\n",
    "        deltas.append(delta)\n",
    "        if delta < theta or iteration > num_episodes:\n",
    "                break\n",
    "        \n",
    "        #2- Policy improvement\n",
    "        for s in range(num_states):\n",
    "            p[s] = return_expected_action(u, s, gamma)\n",
    "    \n",
    "    return p, deltas\n",
    "    \n",
    "policy, deltas = policy_iteration()\n",
    "plt.plot(deltas)\n",
    "plt.show()"
   ]
  },
  {
   "cell_type": "code",
   "execution_count": 69,
   "metadata": {},
   "outputs": [
    {
     "data": {
      "image/png": "[encoded data removed]",
      "text/plain": [
       "<Figure size 432x288 with 1 Axes>"
      ]
     },
     "metadata": {
      "needs_background": "light"
     },
     "output_type": "display_data"
    },
    {
     "data": {
      "text/html": [
       "<div>\n",
       "<style scoped>\n",
       "    .dataframe tbody tr th:only-of-type {\n",
       "        vertical-align: middle;\n",
       "    }\n",
       "\n",
       "    .dataframe tbody tr th {\n",
       "        vertical-align: top;\n",
       "    }\n",
       "\n",
       "    .dataframe thead th {\n",
       "        text-align: right;\n",
       "    }\n",
       "</style>\n",
       "<table border=\"1\" class=\"dataframe\">\n",
       "  <thead>\n",
       "    <tr style=\"text-align: right;\">\n",
       "      <th></th>\n",
       "      <th>ad</th>\n",
       "      <th>counts</th>\n",
       "    </tr>\n",
       "  </thead>\n",
       "  <tbody>\n",
       "    <tr>\n",
       "      <td>0</td>\n",
       "      <td>1.0</td>\n",
       "      <td>4279</td>\n",
       "    </tr>\n",
       "    <tr>\n",
       "      <td>4</td>\n",
       "      <td>5.0</td>\n",
       "      <td>1565</td>\n",
       "    </tr>\n",
       "    <tr>\n",
       "      <td>1</td>\n",
       "      <td>2.0</td>\n",
       "      <td>1084</td>\n",
       "    </tr>\n",
       "    <tr>\n",
       "      <td>3</td>\n",
       "      <td>4.0</td>\n",
       "      <td>796</td>\n",
       "    </tr>\n",
       "    <tr>\n",
       "      <td>7</td>\n",
       "      <td>8.0</td>\n",
       "      <td>790</td>\n",
       "    </tr>\n",
       "  </tbody>\n",
       "</table>\n",
       "</div>"
      ],
      "text/plain": [
       "    ad  counts\n",
       "0  1.0    4279\n",
       "4  5.0    1565\n",
       "1  2.0    1084\n",
       "3  4.0     796\n",
       "7  8.0     790"
      ]
     },
     "execution_count": 69,
     "metadata": {},
     "output_type": "execute_result"
    }
   ],
   "source": [
    "#random_p = np.random.randint(0, 10, size=(num_states)).astype(np.float32)\n",
    "unique, counts = np.unique(policy, return_counts=True)\n",
    "\n",
    "plt.bar(unique, counts)\n",
    "plt.show()\n",
    "\n",
    "dp_df = pd.DataFrame({\"ad\": unique + 1, \"counts\": counts})\n",
    "dp_df.sort_values('counts', ascending=False).head()"
   ]
  },
  {
   "cell_type": "markdown",
   "metadata": {},
   "source": [
    "# PART II\n",
    "## Monte Carlo using  $\\epsilon-greedy$\n",
    "+ Use $\\epsilon-greedy$ policy for this case with $\\epsilon=0.1$\n",
    "\n",
    "+ Save the state-value changes, delta = $||Q_{k-1} - Q_k||$ for each step in a list\n",
    "\n",
    "> __1. Create a bar plot comparing the most chosen positions between the original Ads environment and the optimal policy learned.__\n",
    "\n",
    "> __2. Can you see if the learned policy follows the same pattern of selections for each Ads?__\n",
    "\n",
    "> __3. Compare the five top Ads selected from the original environment with the ones from the learned policy to see how many matches do you have.__\n",
    "#### Optional\n",
    "> __4. Apply a decay factor to the $\\epsilon-greedy$ and compare the convergence plots.__<br/>\n",
    ">    Start with $\\epsilon=1.0$ and let it decay exponentially to $\\epsilon=0.01$ through the episodes, with a decay rate of 0.01.\n",
    "\n",
    "> Has the decaying factor a faster convergence?"
   ]
  },
  {
   "cell_type": "code",
   "execution_count": 45,
   "metadata": {},
   "outputs": [
    {
     "data": {
      "image/png": "[encoded data removed]",
      "text/plain": [
       "<Figure size 432x288 with 1 Axes>"
      ]
     },
     "metadata": {
      "needs_background": "light"
     },
     "output_type": "display_data"
    }
   ],
   "source": [
    "def egreedy_policy(q_values, state, epsilon=0.1):\n",
    "    if np.random.random() < epsilon:\n",
    "        random_choice = True\n",
    "        return np.random.choice(num_actions), random_choice\n",
    "    else:\n",
    "        random_choice = False\n",
    "        return np.argmax(q_values[state]), random_choice\n",
    "\n",
    "    \n",
    "def q_learning(env, num_episodes=1000, exploration_rate=0.1, theta = 1e-20, learning_rate=0.5, gamma=0.9):\n",
    "    q_values = np.random.rand(num_states, num_actions)\n",
    "    td_errors = []\n",
    "\n",
    "    # Iterate over 1000 episodes\n",
    "    for episode in range(num_episodes):\n",
    "        for state in range(num_states):\n",
    "            # Choose action        \n",
    "            action, choice = egreedy_policy(q_values, state, exploration_rate)\n",
    "            # Do the action\n",
    "            col = env.columns[action]\n",
    "            reward = env[col][state]\n",
    "            next_state = state +1\n",
    "            # if done then stop episode\n",
    "            if next_state == num_states:\n",
    "                break\n",
    "            # Update q_values        \n",
    "            td_target = reward + gamma * np.max(q_values[next_state])\n",
    "            td_error = td_target - q_values[state][action]\n",
    "            q_values[state][action] += learning_rate * td_error\n",
    "\n",
    "        # Add error to td_errors list\n",
    "        abs_error = np.absolute(td_error)\n",
    "        td_errors.append(abs_error)\n",
    "        if abs_error < theta:\n",
    "            break\n",
    "\n",
    "    return td_errors, q_values\n",
    "\n",
    "td_errors, q_values = q_learning(env)\n",
    "plt.plot(td_errors)\n",
    "plt.show()"
   ]
  },
  {
   "cell_type": "code",
   "execution_count": 65,
   "metadata": {},
   "outputs": [
    {
     "data": {
      "text/html": [
       "<div>\n",
       "<style scoped>\n",
       "    .dataframe tbody tr th:only-of-type {\n",
       "        vertical-align: middle;\n",
       "    }\n",
       "\n",
       "    .dataframe tbody tr th {\n",
       "        vertical-align: top;\n",
       "    }\n",
       "\n",
       "    .dataframe thead th {\n",
       "        text-align: right;\n",
       "    }\n",
       "</style>\n",
       "<table border=\"1\" class=\"dataframe\">\n",
       "  <thead>\n",
       "    <tr style=\"text-align: right;\">\n",
       "      <th></th>\n",
       "      <th>ad</th>\n",
       "      <th>counts</th>\n",
       "    </tr>\n",
       "  </thead>\n",
       "  <tbody>\n",
       "    <tr>\n",
       "      <td>4</td>\n",
       "      <td>5.0</td>\n",
       "      <td>1377</td>\n",
       "    </tr>\n",
       "    <tr>\n",
       "      <td>7</td>\n",
       "      <td>8.0</td>\n",
       "      <td>1208</td>\n",
       "    </tr>\n",
       "    <tr>\n",
       "      <td>0</td>\n",
       "      <td>1.0</td>\n",
       "      <td>1079</td>\n",
       "    </tr>\n",
       "    <tr>\n",
       "      <td>1</td>\n",
       "      <td>2.0</td>\n",
       "      <td>1003</td>\n",
       "    </tr>\n",
       "    <tr>\n",
       "      <td>3</td>\n",
       "      <td>4.0</td>\n",
       "      <td>1000</td>\n",
       "    </tr>\n",
       "  </tbody>\n",
       "</table>\n",
       "</div>"
      ],
      "text/plain": [
       "    ad  counts\n",
       "4  5.0    1377\n",
       "7  8.0    1208\n",
       "0  1.0    1079\n",
       "1  2.0    1003\n",
       "3  4.0    1000"
      ]
     },
     "execution_count": 65,
     "metadata": {},
     "output_type": "execute_result"
    },
    {
     "data": {
      "image/png": "[encoded data removed]",
      "text/plain": [
       "<Figure size 432x288 with 1 Axes>"
      ]
     },
     "metadata": {
      "needs_background": "light"
     },
     "output_type": "display_data"
    }
   ],
   "source": [
    "result = np.zeros(num_states)\n",
    "for state in range(num_states):\n",
    "    result[state] = egreedy_policy(q_values, state, epsilon=0)[0]\n",
    "\n",
    "unique, counts = np.unique(result, return_counts=True)\n",
    "plt.bar(unique, counts)\n",
    "\n",
    "greedy_df = pd.DataFrame({\"ad\": unique + 1, \"counts\": counts})\n",
    "greedy_df.sort_values('counts', ascending=False).head()"
   ]
  },
  {
   "cell_type": "markdown",
   "metadata": {},
   "source": [
    "* The learned policy matches the patten we see from the data\n",
    "* The top five ads matched perfectly"
   ]
  },
  {
   "cell_type": "code",
   "execution_count": null,
   "metadata": {},
   "outputs": [],
   "source": []
  }
 ],
 "metadata": {
  "kernelspec": {
   "display_name": "Python 3",
   "language": "python",
   "name": "python3"
  },
  "language_info": {
   "codemirror_mode": {
    "name": "ipython",
    "version": 3
   },
   "file_extension": ".py",
   "mimetype": "text/x-python",
   "name": "python",
   "nbconvert_exporter": "python",
   "pygments_lexer": "ipython3",
   "version": "3.7.4"
  }
 },
 "nbformat": 4,
 "nbformat_minor": 4
}
